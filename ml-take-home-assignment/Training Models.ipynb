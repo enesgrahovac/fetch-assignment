{
 "cells": [
  {
   "cell_type": "markdown",
   "id": "1b5bce67",
   "metadata": {},
   "source": [
    "# Imports"
   ]
  },
  {
   "cell_type": "code",
   "execution_count": 1,
   "id": "506f45ae",
   "metadata": {},
   "outputs": [
    {
     "name": "stderr",
     "output_type": "stream",
     "text": [
      "/opt/conda/lib/python3.10/site-packages/tensorflow_io/python/ops/__init__.py:98: UserWarning: unable to load libtensorflow_io_plugins.so: unable to open file: libtensorflow_io_plugins.so, from paths: ['/opt/conda/lib/python3.10/site-packages/tensorflow_io/python/ops/libtensorflow_io_plugins.so']\n",
      "caused by: [\"[Errno 2] The file to load file system plugin from does not exist.: '/opt/conda/lib/python3.10/site-packages/tensorflow_io/python/ops/libtensorflow_io_plugins.so'\"]\n",
      "  warnings.warn(f\"unable to load libtensorflow_io_plugins.so: {e}\")\n",
      "/opt/conda/lib/python3.10/site-packages/tensorflow_io/python/ops/__init__.py:104: UserWarning: file system plugins are not loaded: unable to open file: libtensorflow_io.so, from paths: ['/opt/conda/lib/python3.10/site-packages/tensorflow_io/python/ops/libtensorflow_io.so']\n",
      "caused by: ['/opt/conda/lib/python3.10/site-packages/tensorflow_io/python/ops/libtensorflow_io.so: cannot open shared object file: No such file or directory']\n",
      "  warnings.warn(f\"file system plugins are not loaded: {e}\")\n"
     ]
    }
   ],
   "source": [
    "import keras_tuner as kt\n",
    "import keras.backend as K\n",
    "\n",
    "import matplotlib.pyplot as plt\n",
    "import numpy as np\n",
    "import os\n",
    "import pandas as pd\n",
    "from pickle import dump\n",
    "\n",
    "import tensorflow as tf\n",
    "from tensorflow import keras\n",
    "from tensorflow.keras import layers\n",
    "\n",
    "from constants import * \n",
    "from utilities import *"
   ]
  },
  {
   "cell_type": "markdown",
   "id": "5b1cf215",
   "metadata": {},
   "source": [
    "# Load in Dataset"
   ]
  },
  {
   "cell_type": "code",
   "execution_count": 2,
   "id": "2e4df02b",
   "metadata": {},
   "outputs": [
    {
     "data": {
      "text/html": [
       "<div>\n",
       "<style scoped>\n",
       "    .dataframe tbody tr th:only-of-type {\n",
       "        vertical-align: middle;\n",
       "    }\n",
       "\n",
       "    .dataframe tbody tr th {\n",
       "        vertical-align: top;\n",
       "    }\n",
       "\n",
       "    .dataframe thead th {\n",
       "        text-align: right;\n",
       "    }\n",
       "</style>\n",
       "<table border=\"1\" class=\"dataframe\">\n",
       "  <thead>\n",
       "    <tr style=\"text-align: right;\">\n",
       "      <th></th>\n",
       "      <th># Date</th>\n",
       "      <th>Receipt_Count</th>\n",
       "    </tr>\n",
       "  </thead>\n",
       "  <tbody>\n",
       "    <tr>\n",
       "      <th>0</th>\n",
       "      <td>2021-01-01</td>\n",
       "      <td>7564766</td>\n",
       "    </tr>\n",
       "    <tr>\n",
       "      <th>1</th>\n",
       "      <td>2021-01-02</td>\n",
       "      <td>7455524</td>\n",
       "    </tr>\n",
       "    <tr>\n",
       "      <th>2</th>\n",
       "      <td>2021-01-03</td>\n",
       "      <td>7095414</td>\n",
       "    </tr>\n",
       "    <tr>\n",
       "      <th>3</th>\n",
       "      <td>2021-01-04</td>\n",
       "      <td>7666163</td>\n",
       "    </tr>\n",
       "    <tr>\n",
       "      <th>4</th>\n",
       "      <td>2021-01-05</td>\n",
       "      <td>7771289</td>\n",
       "    </tr>\n",
       "  </tbody>\n",
       "</table>\n",
       "</div>"
      ],
      "text/plain": [
       "       # Date  Receipt_Count\n",
       "0  2021-01-01        7564766\n",
       "1  2021-01-02        7455524\n",
       "2  2021-01-03        7095414\n",
       "3  2021-01-04        7666163\n",
       "4  2021-01-05        7771289"
      ]
     },
     "execution_count": 2,
     "metadata": {},
     "output_type": "execute_result"
    }
   ],
   "source": [
    "all_data = pd.read_csv(PATH_TO_ALL_DATA)\n",
    "all_data.head()"
   ]
  },
  {
   "cell_type": "code",
   "execution_count": 3,
   "id": "99543638",
   "metadata": {},
   "outputs": [
    {
     "data": {
      "text/html": [
       "<div>\n",
       "<style scoped>\n",
       "    .dataframe tbody tr th:only-of-type {\n",
       "        vertical-align: middle;\n",
       "    }\n",
       "\n",
       "    .dataframe tbody tr th {\n",
       "        vertical-align: top;\n",
       "    }\n",
       "\n",
       "    .dataframe thead th {\n",
       "        text-align: right;\n",
       "    }\n",
       "</style>\n",
       "<table border=\"1\" class=\"dataframe\">\n",
       "  <thead>\n",
       "    <tr style=\"text-align: right;\">\n",
       "      <th></th>\n",
       "      <th># Date</th>\n",
       "      <th>Receipt_Count</th>\n",
       "      <th>timestamp</th>\n",
       "    </tr>\n",
       "  </thead>\n",
       "  <tbody>\n",
       "    <tr>\n",
       "      <th>0</th>\n",
       "      <td>2021-01-01</td>\n",
       "      <td>7564766</td>\n",
       "      <td>1.609459e+09</td>\n",
       "    </tr>\n",
       "    <tr>\n",
       "      <th>1</th>\n",
       "      <td>2021-01-02</td>\n",
       "      <td>7455524</td>\n",
       "      <td>1.609546e+09</td>\n",
       "    </tr>\n",
       "    <tr>\n",
       "      <th>2</th>\n",
       "      <td>2021-01-03</td>\n",
       "      <td>7095414</td>\n",
       "      <td>1.609632e+09</td>\n",
       "    </tr>\n",
       "    <tr>\n",
       "      <th>3</th>\n",
       "      <td>2021-01-04</td>\n",
       "      <td>7666163</td>\n",
       "      <td>1.609718e+09</td>\n",
       "    </tr>\n",
       "    <tr>\n",
       "      <th>4</th>\n",
       "      <td>2021-01-05</td>\n",
       "      <td>7771289</td>\n",
       "      <td>1.609805e+09</td>\n",
       "    </tr>\n",
       "  </tbody>\n",
       "</table>\n",
       "</div>"
      ],
      "text/plain": [
       "      # Date  Receipt_Count     timestamp\n",
       "0 2021-01-01        7564766  1.609459e+09\n",
       "1 2021-01-02        7455524  1.609546e+09\n",
       "2 2021-01-03        7095414  1.609632e+09\n",
       "3 2021-01-04        7666163  1.609718e+09\n",
       "4 2021-01-05        7771289  1.609805e+09"
      ]
     },
     "execution_count": 3,
     "metadata": {},
     "output_type": "execute_result"
    }
   ],
   "source": [
    "all_data = prepare_data(all_data)\n",
    "all_data.head()"
   ]
  },
  {
   "cell_type": "markdown",
   "id": "18024479",
   "metadata": {},
   "source": [
    "## Splitting data into training and validation data"
   ]
  },
  {
   "cell_type": "code",
   "execution_count": 4,
   "id": "4d880b4e",
   "metadata": {},
   "outputs": [
    {
     "data": {
      "text/plain": [
       "((328,), (37,), (328,), (37,))"
      ]
     },
     "execution_count": 4,
     "metadata": {},
     "output_type": "execute_result"
    }
   ],
   "source": [
    "X_train, X_validation, y_train, y_validation = train_valid_split(all_data,percent_split=.1)\n",
    "X_train.shape, X_validation.shape, y_train.shape, y_validation.shape"
   ]
  },
  {
   "cell_type": "code",
   "execution_count": 5,
   "id": "60cd903c",
   "metadata": {},
   "outputs": [
    {
     "data": {
      "text/plain": [
       "10738865.0"
      ]
     },
     "execution_count": 5,
     "metadata": {},
     "output_type": "execute_result"
    }
   ],
   "source": [
    "from sklearn.preprocessing import MinMaxScaler\n",
    "scaler = MinMaxScaler()\n",
    "\n",
    "y_train_reshaped = np.array(y_train).reshape(-1, 1)\n",
    "y_validation_reshaped = np.array(y_validation).reshape(-1, 1)\n",
    "\n",
    "scaler.fit(y_train_reshaped)\n",
    "MAX_Y_VALUE = scaler.data_max_[0]\n",
    "MAX_Y_VALUE"
   ]
  },
  {
   "cell_type": "code",
   "execution_count": 6,
   "id": "9d51e6e9",
   "metadata": {},
   "outputs": [],
   "source": [
    "norm_y_train  = scaler.transform(y_train_reshaped)"
   ]
  },
  {
   "cell_type": "code",
   "execution_count": 7,
   "id": "ef3ade6a",
   "metadata": {},
   "outputs": [],
   "source": [
    "norm_y_validation  = scaler.transform(y_validation_reshaped)"
   ]
  },
  {
   "cell_type": "markdown",
   "id": "10f1f664",
   "metadata": {},
   "source": [
    "# Build the Neural Network model"
   ]
  },
  {
   "cell_type": "code",
   "execution_count": 8,
   "id": "46993363",
   "metadata": {},
   "outputs": [],
   "source": [
    "def build_and_compile_model(norm):\n",
    "    model = keras.Sequential([\n",
    "      norm,\n",
    "      layers.Dense(1)\n",
    "    ])\n",
    "\n",
    "    model.compile(loss='mean_absolute_error',\n",
    "                optimizer=tf.keras.optimizers.Adam(0.01))\n",
    "    return model"
   ]
  },
  {
   "cell_type": "code",
   "execution_count": 9,
   "id": "0d396679",
   "metadata": {},
   "outputs": [],
   "source": [
    "def get_fresh_normalizer():\n",
    "    _normalizer = layers.Normalization(input_shape=[1,], axis=None)\n",
    "    _normalizer.adapt(X_train)\n",
    "    return _normalizer"
   ]
  },
  {
   "cell_type": "code",
   "execution_count": 10,
   "id": "90209215",
   "metadata": {},
   "outputs": [],
   "source": [
    "def create_model():\n",
    "    _normalizer = get_fresh_normalizer()\n",
    "    model = build_and_compile_model(_normalizer)\n",
    "    return model"
   ]
  },
  {
   "cell_type": "code",
   "execution_count": 40,
   "id": "eff026f6",
   "metadata": {},
   "outputs": [
    {
     "name": "stdout",
     "output_type": "stream",
     "text": [
      "Epoch 1/30\n",
      "11/11 [==============================] - 0s 6ms/step - loss: 0.4271 - val_loss: 0.3602\n",
      "Epoch 2/30\n",
      "11/11 [==============================] - 0s 2ms/step - loss: 0.3169 - val_loss: 0.2497\n",
      "Epoch 3/30\n",
      "11/11 [==============================] - 0s 2ms/step - loss: 0.2069 - val_loss: 0.1406\n",
      "Epoch 4/30\n",
      "11/11 [==============================] - 0s 2ms/step - loss: 0.1045 - val_loss: 0.0659\n",
      "Epoch 5/30\n",
      "11/11 [==============================] - 0s 2ms/step - loss: 0.0535 - val_loss: 0.0567\n",
      "Epoch 6/30\n",
      "11/11 [==============================] - 0s 2ms/step - loss: 0.0536 - val_loss: 0.0546\n",
      "Epoch 7/30\n",
      "11/11 [==============================] - 0s 2ms/step - loss: 0.0474 - val_loss: 0.0539\n",
      "Epoch 8/30\n",
      "11/11 [==============================] - 0s 2ms/step - loss: 0.0469 - val_loss: 0.0539\n",
      "Epoch 9/30\n",
      "11/11 [==============================] - 0s 2ms/step - loss: 0.0466 - val_loss: 0.0541\n",
      "Epoch 10/30\n",
      "11/11 [==============================] - 0s 2ms/step - loss: 0.0469 - val_loss: 0.0529\n",
      "Epoch 11/30\n",
      "11/11 [==============================] - 0s 2ms/step - loss: 0.0474 - val_loss: 0.0533\n",
      "Epoch 12/30\n",
      "11/11 [==============================] - 0s 2ms/step - loss: 0.0462 - val_loss: 0.0537\n",
      "Epoch 13/30\n",
      "11/11 [==============================] - 0s 2ms/step - loss: 0.0466 - val_loss: 0.0536\n",
      "Epoch 14/30\n",
      "11/11 [==============================] - 0s 2ms/step - loss: 0.0470 - val_loss: 0.0531\n",
      "Epoch 15/30\n",
      "11/11 [==============================] - 0s 2ms/step - loss: 0.0466 - val_loss: 0.0538\n",
      "Epoch 16/30\n",
      "11/11 [==============================] - 0s 2ms/step - loss: 0.0465 - val_loss: 0.0534\n",
      "Epoch 17/30\n",
      "11/11 [==============================] - 0s 2ms/step - loss: 0.0464 - val_loss: 0.0538\n",
      "Epoch 18/30\n",
      "11/11 [==============================] - 0s 2ms/step - loss: 0.0469 - val_loss: 0.0533\n",
      "Epoch 19/30\n",
      "11/11 [==============================] - 0s 2ms/step - loss: 0.0470 - val_loss: 0.0536\n",
      "Epoch 20/30\n",
      "11/11 [==============================] - 0s 2ms/step - loss: 0.0474 - val_loss: 0.0530\n",
      "Epoch 21/30\n",
      "11/11 [==============================] - 0s 2ms/step - loss: 0.0490 - val_loss: 0.0539\n",
      "Epoch 22/30\n",
      "11/11 [==============================] - 0s 2ms/step - loss: 0.0480 - val_loss: 0.0536\n",
      "Epoch 23/30\n",
      "11/11 [==============================] - 0s 2ms/step - loss: 0.0468 - val_loss: 0.0544\n",
      "Epoch 24/30\n",
      "11/11 [==============================] - 0s 2ms/step - loss: 0.0476 - val_loss: 0.0532\n",
      "Epoch 25/30\n",
      "11/11 [==============================] - 0s 2ms/step - loss: 0.0470 - val_loss: 0.0538\n",
      "Epoch 26/30\n",
      "11/11 [==============================] - 0s 2ms/step - loss: 0.0465 - val_loss: 0.0534\n",
      "Epoch 27/30\n",
      "11/11 [==============================] - 0s 2ms/step - loss: 0.0464 - val_loss: 0.0538\n",
      "Epoch 28/30\n",
      "11/11 [==============================] - 0s 2ms/step - loss: 0.0466 - val_loss: 0.0533\n",
      "Epoch 29/30\n",
      "11/11 [==============================] - 0s 2ms/step - loss: 0.0464 - val_loss: 0.0531\n",
      "Epoch 30/30\n",
      "11/11 [==============================] - 0s 2ms/step - loss: 0.0464 - val_loss: 0.0536\n",
      "Model: \"sequential_1\"\n",
      "_________________________________________________________________\n",
      " Layer (type)                Output Shape              Param #   \n",
      "=================================================================\n",
      " normalization_1 (Normalizat  (None, 1)                3         \n",
      " ion)                                                            \n",
      "                                                                 \n",
      " dense_3 (Dense)             (None, 1)                 2         \n",
      "                                                                 \n",
      "=================================================================\n",
      "Total params: 5\n",
      "Trainable params: 2\n",
      "Non-trainable params: 3\n",
      "_________________________________________________________________\n"
     ]
    }
   ],
   "source": [
    "def build_and_train_model(X_train,X_validation,y_train,y_validation):\n",
    "    \n",
    "    _normalizer = layers.Normalization(input_shape=[1,], axis=None)\n",
    "    _normalizer.adapt(X_train)\n",
    "    \n",
    "    model = build_and_compile_model(_normalizer)\n",
    "\n",
    "    history = model.fit(\n",
    "        X_train, y_train,\n",
    "        validation_data=(X_validation, y_validation),\n",
    "        epochs=30,\n",
    "        verbose=1,\n",
    "    )\n",
    "    return model, history\n",
    "model_no_hidden_layers, history = build_and_train_model(X_train,X_validation,norm_y_train,norm_y_validation)\n",
    "model_no_hidden_layers.summary()"
   ]
  },
  {
   "cell_type": "markdown",
   "id": "84415220",
   "metadata": {},
   "source": [
    "# Model Hypter Parameter Tuning"
   ]
  },
  {
   "cell_type": "code",
   "execution_count": 66,
   "id": "58227ade",
   "metadata": {},
   "outputs": [],
   "source": [
    "! rm -rf ./data/saved_models/tuning/"
   ]
  },
  {
   "cell_type": "code",
   "execution_count": 67,
   "id": "9472743f",
   "metadata": {},
   "outputs": [],
   "source": [
    "def model_builder(hp):\n",
    "    norm = get_fresh_normalizer()\n",
    "    hp_units = hp.Int('units', min_value=0, max_value=128, step=32)\n",
    "    model = keras.Sequential([\n",
    "      norm,\n",
    "      layers.Dense(units=hp_units),\n",
    "      layers.Dense(units=hp_units),\n",
    "      layers.Dense(1)\n",
    "    ])\n",
    "\n",
    "    # Tune the learning rate for the optimizer\n",
    "    # Choose an optimal value from 0.1, 0.01, 0.001, or 0.0001\n",
    "    hp_learning_rate = hp.Choice('learning_rate', values=[1e-1, 1e-2, 1e-3, 1e-4,1e-5])\n",
    "\n",
    "    model.compile(optimizer=keras.optimizers.Adam(learning_rate=hp_learning_rate),\n",
    "                loss='mean_absolute_error')\n",
    "\n",
    "    return model"
   ]
  },
  {
   "cell_type": "code",
   "execution_count": 68,
   "id": "8f38d2e4",
   "metadata": {},
   "outputs": [],
   "source": [
    "tuner = kt.Hyperband(model_builder,\n",
    "                     objective='val_loss',\n",
    "                     max_epochs=10,\n",
    "                     factor=3,\n",
    "                     directory=SAVED_MODELS_PATH+'tuning/',\n",
    "                     project_name='fetch_tuning')"
   ]
  },
  {
   "cell_type": "code",
   "execution_count": 69,
   "id": "00c7fad0",
   "metadata": {},
   "outputs": [],
   "source": [
    "stop_early = keras.callbacks.EarlyStopping(monitor='val_loss', patience=10)\n"
   ]
  },
  {
   "cell_type": "code",
   "execution_count": 70,
   "id": "221e7394",
   "metadata": {},
   "outputs": [
    {
     "name": "stdout",
     "output_type": "stream",
     "text": [
      "Trial 30 Complete [00h 00m 01s]\n",
      "val_loss: 0.4933236539363861\n",
      "\n",
      "Best val_loss So Far: 0.053044114261865616\n",
      "Total elapsed time: 00h 00m 24s\n",
      "INFO:tensorflow:Oracle triggered exit\n"
     ]
    }
   ],
   "source": [
    "tuner.search(X_train, norm_y_train, epochs=100, validation_data=(X_validation, norm_y_validation), callbacks=[stop_early])\n"
   ]
  },
  {
   "cell_type": "code",
   "execution_count": 64,
   "id": "afb90193",
   "metadata": {
    "scrolled": true
   },
   "outputs": [
    {
     "name": "stdout",
     "output_type": "stream",
     "text": [
      "WARNING:tensorflow:Detecting that an object or model or tf.train.Checkpoint is being deleted with unrestored values. See the following logs for the specific values in question. To silence these warnings, use `status.expect_partial()`. See https://www.tensorflow.org/api_docs/python/tf/train/Checkpoint#restorefor details about the status object returned by the restore function.\n",
      "WARNING:tensorflow:Value in checkpoint could not be found in the restored object: (root).optimizer._variables.1\n",
      "WARNING:tensorflow:Value in checkpoint could not be found in the restored object: (root).optimizer._variables.2\n",
      "WARNING:tensorflow:Value in checkpoint could not be found in the restored object: (root).optimizer._variables.3\n",
      "WARNING:tensorflow:Value in checkpoint could not be found in the restored object: (root).optimizer._variables.4\n",
      "WARNING:tensorflow:Value in checkpoint could not be found in the restored object: (root).optimizer._variables.5\n",
      "WARNING:tensorflow:Value in checkpoint could not be found in the restored object: (root).optimizer._variables.6\n",
      "WARNING:tensorflow:Value in checkpoint could not be found in the restored object: (root).optimizer._variables.7\n",
      "WARNING:tensorflow:Value in checkpoint could not be found in the restored object: (root).optimizer._variables.8\n",
      "WARNING:tensorflow:Value in checkpoint could not be found in the restored object: (root).optimizer._variables.9\n",
      "WARNING:tensorflow:Value in checkpoint could not be found in the restored object: (root).optimizer._variables.10\n",
      "WARNING:tensorflow:Value in checkpoint could not be found in the restored object: (root).optimizer._variables.11\n",
      "WARNING:tensorflow:Value in checkpoint could not be found in the restored object: (root).optimizer._variables.12\n",
      "Model: \"sequential\"\n",
      "_________________________________________________________________\n",
      " Layer (type)                Output Shape              Param #   \n",
      "=================================================================\n",
      " normalization (Normalizatio  (None, 1)                3         \n",
      " n)                                                              \n",
      "                                                                 \n",
      " dense (Dense)               (None, 32)                64        \n",
      "                                                                 \n",
      " dense_1 (Dense)             (None, 32)                1056      \n",
      "                                                                 \n",
      " dense_2 (Dense)             (None, 1)                 33        \n",
      "                                                                 \n",
      "=================================================================\n",
      "Total params: 1,156\n",
      "Trainable params: 1,153\n",
      "Non-trainable params: 3\n",
      "_________________________________________________________________\n"
     ]
    }
   ],
   "source": [
    "best_model = tuner.get_best_models()[0]\n",
    "best_model.summary()"
   ]
  },
  {
   "cell_type": "code",
   "execution_count": 71,
   "id": "e2a2cb54",
   "metadata": {},
   "outputs": [
    {
     "name": "stdout",
     "output_type": "stream",
     "text": [
      "Best Learning Rate: 0.001\n"
     ]
    }
   ],
   "source": [
    "best_learning_rate = K.eval(best_model.optimizer.lr)\n",
    "print(f\"Best Learning Rate:\",best_learning_rate)"
   ]
  },
  {
   "cell_type": "markdown",
   "id": "6491d076",
   "metadata": {},
   "source": [
    "# Plot Model Predictions"
   ]
  },
  {
   "cell_type": "code",
   "execution_count": 72,
   "id": "3080b4ee",
   "metadata": {},
   "outputs": [
    {
     "name": "stdout",
     "output_type": "stream",
     "text": [
      "12/12 [==============================] - 0s 723us/step\n"
     ]
    },
    {
     "data": {
      "image/png": "[encoded data removed]",
      "text/plain": [
       "<Figure size 640x480 with 1 Axes>"
      ]
     },
     "metadata": {},
     "output_type": "display_data"
    }
   ],
   "source": [
    "x = np.array(all_data[\"timestamp\"])\n",
    "y_predictions = scaler.inverse_transform(best_model.predict(x).reshape(-1, 1))\n",
    "plot_receipt_count_predictions(all_data, x,y_predictions)"
   ]
  },
  {
   "cell_type": "markdown",
   "id": "ae5eb15d",
   "metadata": {},
   "source": [
    "### Let's compare the best DNN model with the no-hidden layers model"
   ]
  },
  {
   "cell_type": "code",
   "execution_count": 73,
   "id": "bf31064e",
   "metadata": {},
   "outputs": [
    {
     "name": "stdout",
     "output_type": "stream",
     "text": [
      "12/12 [==============================] - 0s 885us/step\n"
     ]
    }
   ],
   "source": [
    "x = np.array(all_data[\"timestamp\"])\n",
    "y_predictions_no_hidden = scaler.inverse_transform(model_no_hidden_layers.predict(x).reshape(-1, 1))\n"
   ]
  },
  {
   "cell_type": "code",
   "execution_count": 74,
   "id": "fd9d9e7d",
   "metadata": {},
   "outputs": [
    {
     "name": "stdout",
     "output_type": "stream",
     "text": [
      "Deep Neural Network Results:\n",
      "Metric Name: Mean Squared Error             | Value: 48518457376.47055\n",
      "Metric Name: Root Mean Squared Error        | Value: 220269.0567839036\n",
      "Metric Name: R-squared                      | Value: 0.9204436078020392\n",
      "Metric Name: Mean Absolute Error            | Value: 173285.35479452054\n",
      ":::::::::::::::::::::::::::::: \n",
      "\n",
      "\n",
      "\n",
      "No Hidden Layers Model Results:\n",
      "Metric Name: Mean Squared Error             | Value: 47291615869.4911\n",
      "Metric Name: Root Mean Squared Error        | Value: 217466.3557185136\n",
      "Metric Name: R-squared                      | Value: 0.9224552769558348\n",
      "Metric Name: Mean Absolute Error            | Value: 170919.94657534247\n"
     ]
    }
   ],
   "source": [
    "evaluation_results = run_evaluation_calculations(all_data[\"Receipt_Count\"],y_predictions)\n",
    "evaluation_results_no_hidden = run_evaluation_calculations(all_data[\"Receipt_Count\"],y_predictions_no_hidden)\n",
    "\n",
    "print(\"Deep Neural Network Results:\")\n",
    "print_eval_results(evaluation_results)\n",
    "print(\":\"*30,\"\\n\\n\\n\")\n",
    "print(\"No Hidden Layers Model Results:\")\n",
    "print_eval_results(evaluation_results_no_hidden)\n"
   ]
  },
  {
   "cell_type": "markdown",
   "id": "de1e74c3",
   "metadata": {},
   "source": [
    "### Thoughts on Model Comparison\n",
    "The results are shockingly similar. I will go with the No Hidden-Layers, as it does perform slightly better. If this was a production scenario with much more training data and costs, then the non-deep learning approach could save much more money with barely any performance trade-off."
   ]
  },
  {
   "cell_type": "markdown",
   "id": "59e1f850",
   "metadata": {},
   "source": [
    "### Let's look at how the predictions would fit in the next year"
   ]
  },
  {
   "cell_type": "code",
   "execution_count": 75,
   "id": "28b330cb",
   "metadata": {},
   "outputs": [],
   "source": [
    "num_days_to_add = 365\n",
    "\n",
    "timestamps_to_predict = all_data[\"timestamp\"].to_list()\n",
    "SECONDS_IN_DAY = 86400\n",
    "\n",
    "last_day = timestamps_to_predict[-1]\n",
    "for day_to_add in range(num_days_to_add):\n",
    "    timestamp_to_add = last_day+SECONDS_IN_DAY\n",
    "    timestamps_to_predict.append(timestamp_to_add)\n",
    "    last_day=timestamp_to_add"
   ]
  },
  {
   "cell_type": "code",
   "execution_count": 76,
   "id": "f12886f3",
   "metadata": {},
   "outputs": [
    {
     "name": "stdout",
     "output_type": "stream",
     "text": [
      "23/23 [==============================] - 0s 808us/step\n"
     ]
    },
    {
     "data": {
      "image/png": "[encoded data removed]",
      "text/plain": [
       "<Figure size 640x480 with 1 Axes>"
      ]
     },
     "metadata": {},
     "output_type": "display_data"
    }
   ],
   "source": [
    "x = np.array(timestamps_to_predict)\n",
    "y = scaler.inverse_transform(best_model.predict(x) .reshape(-1, 1))\n",
    "plot_receipt_count_predictions(x,y)"
   ]
  },
  {
   "cell_type": "markdown",
   "id": "fd1063af",
   "metadata": {},
   "source": [
    "# Save the Models"
   ]
  },
  {
   "cell_type": "code",
   "execution_count": 81,
   "id": "1518c16e",
   "metadata": {
    "scrolled": true
   },
   "outputs": [
    {
     "name": "stdout",
     "output_type": "stream",
     "text": [
      "Creating Model's Folder\n"
     ]
    }
   ],
   "source": [
    "if os.path.exists(SAVED_MODELS_PATH) is False:\n",
    "    print(\"Creating Model's Folder\")\n",
    "    os.mkdir(SAVED_MODELS_PATH)\n",
    "model_no_hidden_layers.save(SAVED_MODELS_PATH+\"/no_hidden_layers/no_hidden_layers.h5\")\n",
    "best_model.save(SAVED_MODELS_PATH+\"/best_model/best_model.h5\")"
   ]
  },
  {
   "cell_type": "markdown",
   "id": "f79f3148",
   "metadata": {},
   "source": [
    "# Save Data Preparation tools\n",
    "https://machinelearningmastery.com/how-to-save-and-load-models-and-data-preparation-in-scikit-learn-for-later-use/"
   ]
  },
  {
   "cell_type": "code",
   "execution_count": 82,
   "id": "06877a52",
   "metadata": {},
   "outputs": [],
   "source": [
    "with open(SAVED_MODELS_PATH+\"/no_hidden_layers/scaler.pkl\",\"wb\") as file:  \n",
    "    dump(scaler, file)\n",
    "with open(SAVED_MODELS_PATH+\"/best_model/scaler.pkl\",\"wb\") as file:  \n",
    "    dump(scaler, file)"
   ]
  },
  {
   "cell_type": "code",
   "execution_count": null,
   "id": "2ab5c712",
   "metadata": {},
   "outputs": [],
   "source": []
  }
 ],
 "metadata": {
  "kernelspec": {
   "display_name": "Python 3 (ipykernel)",
   "language": "python",
   "name": "python3"
  },
  "language_info": {
   "codemirror_mode": {
    "name": "ipython",
    "version": 3
   },
   "file_extension": ".py",
   "mimetype": "text/x-python",
   "name": "python",
   "nbconvert_exporter": "python",
   "pygments_lexer": "ipython3",
   "version": "3.10.8"
  }
 },
 "nbformat": 4,
 "nbformat_minor": 5
}
