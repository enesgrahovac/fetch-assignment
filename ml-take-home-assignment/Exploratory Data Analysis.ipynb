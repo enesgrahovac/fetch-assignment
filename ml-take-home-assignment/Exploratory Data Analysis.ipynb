{
 "cells": [
  {
   "cell_type": "markdown",
   "id": "d312bd96",
   "metadata": {},
   "source": [
    "# Imports"
   ]
  },
  {
   "cell_type": "code",
   "execution_count": 1,
   "id": "08711ff2",
   "metadata": {},
   "outputs": [
    {
     "name": "stdout",
     "output_type": "stream",
     "text": [
      "Requirement already satisfied: pandas in /Users/enes/opt/anaconda3/envs/fetch/lib/python3.8/site-packages (1.5.2)\n",
      "Requirement already satisfied: numpy>=1.20.3 in /Users/enes/opt/anaconda3/envs/fetch/lib/python3.8/site-packages (from pandas) (1.23.5)\n",
      "Requirement already satisfied: pytz>=2020.1 in /Users/enes/opt/anaconda3/envs/fetch/lib/python3.8/site-packages (from pandas) (2022.1)\n",
      "Requirement already satisfied: python-dateutil>=2.8.1 in /Users/enes/opt/anaconda3/envs/fetch/lib/python3.8/site-packages (from pandas) (2.8.2)\n",
      "Requirement already satisfied: six>=1.5 in /Users/enes/.local/lib/python3.8/site-packages (from python-dateutil>=2.8.1->pandas) (1.15.0)\n",
      "Requirement already satisfied: matplotlib in /Users/enes/opt/anaconda3/envs/fetch/lib/python3.8/site-packages (3.6.2)\n",
      "Requirement already satisfied: cycler>=0.10 in /Users/enes/opt/anaconda3/envs/fetch/lib/python3.8/site-packages (from matplotlib) (0.11.0)\n",
      "Requirement already satisfied: packaging>=20.0 in /Users/enes/opt/anaconda3/envs/fetch/lib/python3.8/site-packages (from matplotlib) (21.3)\n",
      "Requirement already satisfied: fonttools>=4.22.0 in /Users/enes/opt/anaconda3/envs/fetch/lib/python3.8/site-packages (from matplotlib) (4.38.0)\n",
      "Requirement already satisfied: pyparsing>=2.2.1 in /Users/enes/opt/anaconda3/envs/fetch/lib/python3.8/site-packages (from matplotlib) (3.0.9)\n",
      "Requirement already satisfied: pillow>=6.2.0 in /Users/enes/opt/anaconda3/envs/fetch/lib/python3.8/site-packages (from matplotlib) (9.3.0)\n",
      "Requirement already satisfied: kiwisolver>=1.0.1 in /Users/enes/opt/anaconda3/envs/fetch/lib/python3.8/site-packages (from matplotlib) (1.4.4)\n",
      "Requirement already satisfied: contourpy>=1.0.1 in /Users/enes/opt/anaconda3/envs/fetch/lib/python3.8/site-packages (from matplotlib) (1.0.6)\n",
      "Requirement already satisfied: numpy>=1.19 in /Users/enes/opt/anaconda3/envs/fetch/lib/python3.8/site-packages (from matplotlib) (1.23.5)\n",
      "Requirement already satisfied: python-dateutil>=2.7 in /Users/enes/opt/anaconda3/envs/fetch/lib/python3.8/site-packages (from matplotlib) (2.8.2)\n",
      "Requirement already satisfied: six>=1.5 in /Users/enes/.local/lib/python3.8/site-packages (from python-dateutil>=2.7->matplotlib) (1.15.0)\n"
     ]
    }
   ],
   "source": [
    "import pandas as pd\n",
    "import matplotlib.pyplot as plt\n",
    "import numpy as np"
   ]
  },
  {
   "cell_type": "markdown",
   "id": "3c9da709",
   "metadata": {},
   "source": [
    "# Load in and Initial Overview of the provided training data"
   ]
  },
  {
   "cell_type": "code",
   "execution_count": 2,
   "id": "c103e36a",
   "metadata": {},
   "outputs": [],
   "source": [
    "DATA_FOLDER_PATH = \"./data/\"\n",
    "PATH_TO_TRAINING_DATA = DATA_FOLDER_PATH + \"data_daily.csv\""
   ]
  },
  {
   "cell_type": "code",
   "execution_count": 3,
   "id": "bec5cbbc",
   "metadata": {},
   "outputs": [],
   "source": [
    "provided_data_df = pd.read_csv(PATH_TO_TRAINING_DATA)"
   ]
  },
  {
   "cell_type": "code",
   "execution_count": 4,
   "id": "2b2b9a98",
   "metadata": {},
   "outputs": [],
   "source": [
    "# Change the \"# Date\" column to be a datetime object\n",
    "provided_data_df[\"# Date\"] = pd.to_datetime(provided_data_df[\"# Date\"])"
   ]
  },
  {
   "cell_type": "code",
   "execution_count": 5,
   "id": "2b90c1a4",
   "metadata": {},
   "outputs": [
    {
     "data": {
      "text/html": [
       "<div>\n",
       "<style scoped>\n",
       "    .dataframe tbody tr th:only-of-type {\n",
       "        vertical-align: middle;\n",
       "    }\n",
       "\n",
       "    .dataframe tbody tr th {\n",
       "        vertical-align: top;\n",
       "    }\n",
       "\n",
       "    .dataframe thead th {\n",
       "        text-align: right;\n",
       "    }\n",
       "</style>\n",
       "<table border=\"1\" class=\"dataframe\">\n",
       "  <thead>\n",
       "    <tr style=\"text-align: right;\">\n",
       "      <th></th>\n",
       "      <th># Date</th>\n",
       "      <th>Receipt_Count</th>\n",
       "    </tr>\n",
       "  </thead>\n",
       "  <tbody>\n",
       "    <tr>\n",
       "      <th>200</th>\n",
       "      <td>2021-07-20</td>\n",
       "      <td>8987305</td>\n",
       "    </tr>\n",
       "    <tr>\n",
       "      <th>254</th>\n",
       "      <td>2021-09-12</td>\n",
       "      <td>9264013</td>\n",
       "    </tr>\n",
       "    <tr>\n",
       "      <th>253</th>\n",
       "      <td>2021-09-11</td>\n",
       "      <td>9508131</td>\n",
       "    </tr>\n",
       "    <tr>\n",
       "      <th>360</th>\n",
       "      <td>2021-12-27</td>\n",
       "      <td>10350408</td>\n",
       "    </tr>\n",
       "    <tr>\n",
       "      <th>139</th>\n",
       "      <td>2021-05-20</td>\n",
       "      <td>8471826</td>\n",
       "    </tr>\n",
       "    <tr>\n",
       "      <th>89</th>\n",
       "      <td>2021-03-31</td>\n",
       "      <td>8013013</td>\n",
       "    </tr>\n",
       "    <tr>\n",
       "      <th>72</th>\n",
       "      <td>2021-03-14</td>\n",
       "      <td>8070687</td>\n",
       "    </tr>\n",
       "    <tr>\n",
       "      <th>113</th>\n",
       "      <td>2021-04-24</td>\n",
       "      <td>8221890</td>\n",
       "    </tr>\n",
       "    <tr>\n",
       "      <th>279</th>\n",
       "      <td>2021-10-07</td>\n",
       "      <td>9363588</td>\n",
       "    </tr>\n",
       "    <tr>\n",
       "      <th>153</th>\n",
       "      <td>2021-06-03</td>\n",
       "      <td>8319351</td>\n",
       "    </tr>\n",
       "  </tbody>\n",
       "</table>\n",
       "</div>"
      ],
      "text/plain": [
       "        # Date  Receipt_Count\n",
       "200 2021-07-20        8987305\n",
       "254 2021-09-12        9264013\n",
       "253 2021-09-11        9508131\n",
       "360 2021-12-27       10350408\n",
       "139 2021-05-20        8471826\n",
       "89  2021-03-31        8013013\n",
       "72  2021-03-14        8070687\n",
       "113 2021-04-24        8221890\n",
       "279 2021-10-07        9363588\n",
       "153 2021-06-03        8319351"
      ]
     },
     "execution_count": 5,
     "metadata": {},
     "output_type": "execute_result"
    }
   ],
   "source": [
    "provided_data_df.sample(10)"
   ]
  },
  {
   "cell_type": "code",
   "execution_count": 6,
   "id": "4d480dd2",
   "metadata": {},
   "outputs": [
    {
     "data": {
      "text/html": [
       "<div>\n",
       "<style scoped>\n",
       "    .dataframe tbody tr th:only-of-type {\n",
       "        vertical-align: middle;\n",
       "    }\n",
       "\n",
       "    .dataframe tbody tr th {\n",
       "        vertical-align: top;\n",
       "    }\n",
       "\n",
       "    .dataframe thead th {\n",
       "        text-align: right;\n",
       "    }\n",
       "</style>\n",
       "<table border=\"1\" class=\"dataframe\">\n",
       "  <thead>\n",
       "    <tr style=\"text-align: right;\">\n",
       "      <th></th>\n",
       "      <th># Date</th>\n",
       "      <th>Receipt_Count</th>\n",
       "    </tr>\n",
       "  </thead>\n",
       "  <tbody>\n",
       "    <tr>\n",
       "      <th>0</th>\n",
       "      <td>2021-01-01</td>\n",
       "      <td>7564766</td>\n",
       "    </tr>\n",
       "    <tr>\n",
       "      <th>1</th>\n",
       "      <td>2021-01-02</td>\n",
       "      <td>7455524</td>\n",
       "    </tr>\n",
       "    <tr>\n",
       "      <th>2</th>\n",
       "      <td>2021-01-03</td>\n",
       "      <td>7095414</td>\n",
       "    </tr>\n",
       "    <tr>\n",
       "      <th>3</th>\n",
       "      <td>2021-01-04</td>\n",
       "      <td>7666163</td>\n",
       "    </tr>\n",
       "    <tr>\n",
       "      <th>4</th>\n",
       "      <td>2021-01-05</td>\n",
       "      <td>7771289</td>\n",
       "    </tr>\n",
       "  </tbody>\n",
       "</table>\n",
       "</div>"
      ],
      "text/plain": [
       "      # Date  Receipt_Count\n",
       "0 2021-01-01        7564766\n",
       "1 2021-01-02        7455524\n",
       "2 2021-01-03        7095414\n",
       "3 2021-01-04        7666163\n",
       "4 2021-01-05        7771289"
      ]
     },
     "execution_count": 6,
     "metadata": {},
     "output_type": "execute_result"
    }
   ],
   "source": [
    "provided_data_df.head()"
   ]
  },
  {
   "cell_type": "code",
   "execution_count": 7,
   "id": "4855c079",
   "metadata": {},
   "outputs": [
    {
     "data": {
      "text/html": [
       "<div>\n",
       "<style scoped>\n",
       "    .dataframe tbody tr th:only-of-type {\n",
       "        vertical-align: middle;\n",
       "    }\n",
       "\n",
       "    .dataframe tbody tr th {\n",
       "        vertical-align: top;\n",
       "    }\n",
       "\n",
       "    .dataframe thead th {\n",
       "        text-align: right;\n",
       "    }\n",
       "</style>\n",
       "<table border=\"1\" class=\"dataframe\">\n",
       "  <thead>\n",
       "    <tr style=\"text-align: right;\">\n",
       "      <th></th>\n",
       "      <th># Date</th>\n",
       "      <th>Receipt_Count</th>\n",
       "    </tr>\n",
       "  </thead>\n",
       "  <tbody>\n",
       "    <tr>\n",
       "      <th>360</th>\n",
       "      <td>2021-12-27</td>\n",
       "      <td>10350408</td>\n",
       "    </tr>\n",
       "    <tr>\n",
       "      <th>361</th>\n",
       "      <td>2021-12-28</td>\n",
       "      <td>10219445</td>\n",
       "    </tr>\n",
       "    <tr>\n",
       "      <th>362</th>\n",
       "      <td>2021-12-29</td>\n",
       "      <td>10313337</td>\n",
       "    </tr>\n",
       "    <tr>\n",
       "      <th>363</th>\n",
       "      <td>2021-12-30</td>\n",
       "      <td>10310644</td>\n",
       "    </tr>\n",
       "    <tr>\n",
       "      <th>364</th>\n",
       "      <td>2021-12-31</td>\n",
       "      <td>10211187</td>\n",
       "    </tr>\n",
       "  </tbody>\n",
       "</table>\n",
       "</div>"
      ],
      "text/plain": [
       "        # Date  Receipt_Count\n",
       "360 2021-12-27       10350408\n",
       "361 2021-12-28       10219445\n",
       "362 2021-12-29       10313337\n",
       "363 2021-12-30       10310644\n",
       "364 2021-12-31       10211187"
      ]
     },
     "execution_count": 7,
     "metadata": {},
     "output_type": "execute_result"
    }
   ],
   "source": [
    "provided_data_df.tail()"
   ]
  },
  {
   "cell_type": "markdown",
   "id": "fc7170a8",
   "metadata": {},
   "source": [
    "### What is the data type of each column?"
   ]
  },
  {
   "cell_type": "code",
   "execution_count": 8,
   "id": "96cf59ff",
   "metadata": {},
   "outputs": [
    {
     "name": "stdout",
     "output_type": "stream",
     "text": [
      "Column Name: # Date               | Type: datetime64[ns]\n",
      "Column Name: Receipt_Count        | Type: int64\n"
     ]
    }
   ],
   "source": [
    "for column in provided_data_df.columns:\n",
    "    print(f\"Column Name: {column:20} | Type: {provided_data_df[column].dtype}\")"
   ]
  },
  {
   "cell_type": "markdown",
   "id": "d068cc38",
   "metadata": {},
   "source": [
    "### How many rows of data is there?"
   ]
  },
  {
   "cell_type": "code",
   "execution_count": 9,
   "id": "c1b519aa",
   "metadata": {},
   "outputs": [
    {
     "data": {
      "text/plain": [
       "(365, 2)"
      ]
     },
     "execution_count": 9,
     "metadata": {},
     "output_type": "execute_result"
    }
   ],
   "source": [
    "provided_data_df.shape"
   ]
  },
  {
   "cell_type": "markdown",
   "id": "27437d46",
   "metadata": {},
   "source": [
    "### Thoughts so far\n",
    "Okay, so there's 365 days of data. I can now be sure if every day of the year is in the data. Then, I can ensure that there's no null values for Receipt_Count"
   ]
  },
  {
   "cell_type": "code",
   "execution_count": 10,
   "id": "794ef815",
   "metadata": {},
   "outputs": [
    {
     "name": "stdout",
     "output_type": "stream",
     "text": [
      "Are all the day of the year present?\n"
     ]
    },
    {
     "data": {
      "text/plain": [
       "True"
      ]
     },
     "execution_count": 10,
     "metadata": {},
     "output_type": "execute_result"
    }
   ],
   "source": [
    "print(\"Are all the day of the year present?\")\n",
    "len(provided_data_df[\"# Date\"].unique()) == 365"
   ]
  },
  {
   "cell_type": "code",
   "execution_count": 11,
   "id": "39166688",
   "metadata": {},
   "outputs": [
    {
     "name": "stdout",
     "output_type": "stream",
     "text": [
      "Are there any empty values for the Receipt_Count column?\n"
     ]
    },
    {
     "data": {
      "text/plain": [
       "False"
      ]
     },
     "execution_count": 11,
     "metadata": {},
     "output_type": "execute_result"
    }
   ],
   "source": [
    "print(\"Are there any empty values for the Receipt_Count column?\")\n",
    "provided_data_df[\"Receipt_Count\"].dropna().shape[0] != 365"
   ]
  },
  {
   "cell_type": "markdown",
   "id": "17f2194c",
   "metadata": {},
   "source": [
    "### Good\n",
    "There's no gaps in this data. I'll now visualize the provided data as it is. Then, we can consider what dimensions we might want to add to this data."
   ]
  },
  {
   "cell_type": "markdown",
   "id": "b3d33a33",
   "metadata": {},
   "source": [
    "# Initial Data Visualization"
   ]
  },
  {
   "cell_type": "code",
   "execution_count": 12,
   "id": "b6737f74",
   "metadata": {},
   "outputs": [
    {
     "data": {
      "text/plain": [
       "<AxesSubplot: xlabel='# Date'>"
      ]
     },
     "execution_count": 12,
     "metadata": {},
     "output_type": "execute_result"
    },
    {
     "data": {
      "image/png": "[encoded data removed]",
      "text/plain": [
       "<Figure size 1200x800 with 1 Axes>"
      ]
     },
     "metadata": {},
     "output_type": "display_data"
    }
   ],
   "source": [
    "provided_data_df.plot(\"# Date\", \"Receipt_Count\", figsize=(12,8))"
   ]
  },
  {
   "attachments": {},
   "cell_type": "markdown",
   "id": "13c89275",
   "metadata": {},
   "source": [
    "### A quarterly moving-average view of the data"
   ]
  },
  {
   "cell_type": "code",
   "execution_count": null,
   "id": "893b3ecd",
   "metadata": {},
   "outputs": [],
   "source": [
    "moving_average_data_df = provided_data_df.copy()\n",
    "moving_average_data_df[\"Weekly_Rolling\"] = provided_data_df[\"Receipt_Count\"].rolling(90).mean()\n",
    "\n",
    "plt.plot(moving_average_data_df['Receipt_Count'], label='Raw Data',color=\"orange\")\n",
    "plt.plot(moving_average_data_df[\"Weekly_Rolling\"], label='Rolling Mean',color=\"b\")\n",
    "plt.legend()\n",
    "plt.ylabel('Receipt Count')\n",
    "plt.xlabel('Time')\n",
    "plt.show()"
   ]
  },
  {
   "cell_type": "markdown",
   "id": "24343373",
   "metadata": {},
   "source": [
    "# Curiosities"
   ]
  },
  {
   "cell_type": "markdown",
   "id": "b1a5632c",
   "metadata": {},
   "source": [
    "- What's the Month-over-Month growth?\n",
    "- Weekly statistics?\n",
    "- Day of the Month?"
   ]
  },
  {
   "attachments": {},
   "cell_type": "markdown",
   "id": "9f22a750",
   "metadata": {},
   "source": [
    "### Looking at the total distribution of the data"
   ]
  },
  {
   "cell_type": "code",
   "execution_count": null,
   "id": "37d93411",
   "metadata": {},
   "outputs": [],
   "source": [
    "n, bins, patches = plt.hist(provided_data_df[\"Receipt_Count\"], 30, facecolor='blue', alpha=0.5)"
   ]
  },
  {
   "cell_type": "markdown",
   "id": "cab69e7b",
   "metadata": {},
   "source": [
    "### Starting by expanding the datetime column into more columns. This can help in some cases below."
   ]
  },
  {
   "cell_type": "code",
   "execution_count": 13,
   "id": "fa2fd0c6",
   "metadata": {},
   "outputs": [],
   "source": [
    "provided_data_expanded_df = provided_data_df.copy()\n",
    "# provided_data_expanded_df.head()"
   ]
  },
  {
   "cell_type": "code",
   "execution_count": 14,
   "id": "3eca3202",
   "metadata": {},
   "outputs": [
    {
     "data": {
      "text/plain": [
       "dtype('int64')"
      ]
     },
     "execution_count": 14,
     "metadata": {},
     "output_type": "execute_result"
    }
   ],
   "source": [
    "provided_data_expanded_df.index.dtype"
   ]
  },
  {
   "cell_type": "code",
   "execution_count": 15,
   "id": "bc09b8f9",
   "metadata": {},
   "outputs": [],
   "source": [
    "provided_data_expanded_df['day'] = provided_data_expanded_df[\"# Date\"].dt.day\n",
    "provided_data_expanded_df['weekday'] = provided_data_expanded_df[\"# Date\"].dt.weekday\n",
    "provided_data_expanded_df['month'] = provided_data_expanded_df[\"# Date\"].dt.month\n",
    "provided_data_expanded_df['year'] = provided_data_expanded_df[\"# Date\"].dt.year\n",
    "provided_data_expanded_df['week'] =provided_data_expanded_df[\"# Date\"].dt.isocalendar().week"
   ]
  },
  {
   "cell_type": "code",
   "execution_count": 16,
   "id": "c57ab16c",
   "metadata": {},
   "outputs": [
    {
     "data": {
      "text/html": [
       "<div>\n",
       "<style scoped>\n",
       "    .dataframe tbody tr th:only-of-type {\n",
       "        vertical-align: middle;\n",
       "    }\n",
       "\n",
       "    .dataframe tbody tr th {\n",
       "        vertical-align: top;\n",
       "    }\n",
       "\n",
       "    .dataframe thead th {\n",
       "        text-align: right;\n",
       "    }\n",
       "</style>\n",
       "<table border=\"1\" class=\"dataframe\">\n",
       "  <thead>\n",
       "    <tr style=\"text-align: right;\">\n",
       "      <th></th>\n",
       "      <th># Date</th>\n",
       "      <th>Receipt_Count</th>\n",
       "      <th>day</th>\n",
       "      <th>weekday</th>\n",
       "      <th>month</th>\n",
       "      <th>year</th>\n",
       "      <th>week</th>\n",
       "    </tr>\n",
       "  </thead>\n",
       "  <tbody>\n",
       "    <tr>\n",
       "      <th>0</th>\n",
       "      <td>2021-01-01</td>\n",
       "      <td>7564766</td>\n",
       "      <td>1</td>\n",
       "      <td>4</td>\n",
       "      <td>1</td>\n",
       "      <td>2021</td>\n",
       "      <td>53</td>\n",
       "    </tr>\n",
       "    <tr>\n",
       "      <th>1</th>\n",
       "      <td>2021-01-02</td>\n",
       "      <td>7455524</td>\n",
       "      <td>2</td>\n",
       "      <td>5</td>\n",
       "      <td>1</td>\n",
       "      <td>2021</td>\n",
       "      <td>53</td>\n",
       "    </tr>\n",
       "    <tr>\n",
       "      <th>2</th>\n",
       "      <td>2021-01-03</td>\n",
       "      <td>7095414</td>\n",
       "      <td>3</td>\n",
       "      <td>6</td>\n",
       "      <td>1</td>\n",
       "      <td>2021</td>\n",
       "      <td>53</td>\n",
       "    </tr>\n",
       "    <tr>\n",
       "      <th>3</th>\n",
       "      <td>2021-01-04</td>\n",
       "      <td>7666163</td>\n",
       "      <td>4</td>\n",
       "      <td>0</td>\n",
       "      <td>1</td>\n",
       "      <td>2021</td>\n",
       "      <td>1</td>\n",
       "    </tr>\n",
       "    <tr>\n",
       "      <th>4</th>\n",
       "      <td>2021-01-05</td>\n",
       "      <td>7771289</td>\n",
       "      <td>5</td>\n",
       "      <td>1</td>\n",
       "      <td>1</td>\n",
       "      <td>2021</td>\n",
       "      <td>1</td>\n",
       "    </tr>\n",
       "  </tbody>\n",
       "</table>\n",
       "</div>"
      ],
      "text/plain": [
       "      # Date  Receipt_Count  day  weekday  month  year  week\n",
       "0 2021-01-01        7564766    1        4      1  2021    53\n",
       "1 2021-01-02        7455524    2        5      1  2021    53\n",
       "2 2021-01-03        7095414    3        6      1  2021    53\n",
       "3 2021-01-04        7666163    4        0      1  2021     1\n",
       "4 2021-01-05        7771289    5        1      1  2021     1"
      ]
     },
     "execution_count": 16,
     "metadata": {},
     "output_type": "execute_result"
    }
   ],
   "source": [
    "provided_data_expanded_df.head()"
   ]
  },
  {
   "cell_type": "code",
   "execution_count": 17,
   "id": "4f4b7d02",
   "metadata": {},
   "outputs": [],
   "source": [
    "provided_data_expanded_df.to_csv(DATA_FOLDER_PATH+\"expanded_provided_data.csv\",index=False)"
   ]
  },
  {
   "cell_type": "markdown",
   "id": "e481891d",
   "metadata": {},
   "source": [
    "In this case, the \"weekday\" column is Monday=0 and Sunday=6"
   ]
  },
  {
   "cell_type": "markdown",
   "id": "2b01809a",
   "metadata": {},
   "source": [
    "## A look at the Receipt_Count statistics per weekday"
   ]
  },
  {
   "cell_type": "code",
   "execution_count": 18,
   "id": "fd3af5cb",
   "metadata": {},
   "outputs": [],
   "source": [
    "description_of_weeday_receipts = provided_data_expanded_df.groupby(\"weekday\")[\"Receipt_Count\"].describe()"
   ]
  },
  {
   "cell_type": "code",
   "execution_count": 19,
   "id": "d208c0ac",
   "metadata": {},
   "outputs": [],
   "source": [
    "WEEKDAY_NAMES = [\"Monday\",\"Tuesday\",\"Wednesday\",\"Thursday\",\"Friday\",\"Saturday\",\"Sunday\"]\n",
    "description_of_weeday_receipts.rename(index={index:weekday for index,weekday in enumerate(WEEKDAY_NAMES)},inplace=True)\n"
   ]
  },
  {
   "cell_type": "code",
   "execution_count": 20,
   "id": "9438129e",
   "metadata": {},
   "outputs": [
    {
     "data": {
      "text/plain": [
       "<AxesSubplot: xlabel='Weekday', ylabel='Mean (Receipt_Count)'>"
      ]
     },
     "execution_count": 20,
     "metadata": {},
     "output_type": "execute_result"
    },
    {
     "data": {
      "image/png": "[encoded data removed]",
      "text/plain": [
       "<Figure size 1400x800 with 1 Axes>"
      ]
     },
     "metadata": {},
     "output_type": "display_data"
    }
   ],
   "source": [
    "description_of_weeday_receipts.plot(y=\"mean\",figsize=(14,8),xlabel=\"Weekday\",ylabel=\"Mean (Receipt_Count)\",kind=\"bar\")"
   ]
  },
  {
   "cell_type": "markdown",
   "id": "0ba6897e",
   "metadata": {},
   "source": [
    "### Thoughts on weekday view\n",
    "There seems to be no noticable trends in day of the week. I do notice that Monday is the largest usage date on average, but this likely won't be useful for Machine Learning."
   ]
  },
  {
   "cell_type": "markdown",
   "id": "7d7945ca",
   "metadata": {},
   "source": [
    "## A look at the Receipt_Count statistics per Month"
   ]
  },
  {
   "cell_type": "code",
   "execution_count": 21,
   "id": "bc856050",
   "metadata": {},
   "outputs": [
    {
     "data": {
      "text/html": [
       "<div>\n",
       "<style scoped>\n",
       "    .dataframe tbody tr th:only-of-type {\n",
       "        vertical-align: middle;\n",
       "    }\n",
       "\n",
       "    .dataframe tbody tr th {\n",
       "        vertical-align: top;\n",
       "    }\n",
       "\n",
       "    .dataframe thead th {\n",
       "        text-align: right;\n",
       "    }\n",
       "</style>\n",
       "<table border=\"1\" class=\"dataframe\">\n",
       "  <thead>\n",
       "    <tr style=\"text-align: right;\">\n",
       "      <th></th>\n",
       "      <th>count</th>\n",
       "      <th>mean</th>\n",
       "      <th>std</th>\n",
       "      <th>min</th>\n",
       "      <th>25%</th>\n",
       "      <th>50%</th>\n",
       "      <th>75%</th>\n",
       "      <th>max</th>\n",
       "    </tr>\n",
       "    <tr>\n",
       "      <th>month</th>\n",
       "      <th></th>\n",
       "      <th></th>\n",
       "      <th></th>\n",
       "      <th></th>\n",
       "      <th></th>\n",
       "      <th></th>\n",
       "      <th></th>\n",
       "      <th></th>\n",
       "    </tr>\n",
       "  </thead>\n",
       "  <tbody>\n",
       "    <tr>\n",
       "      <th>1</th>\n",
       "      <td>31.0</td>\n",
       "      <td>7.636667e+06</td>\n",
       "      <td>241929.292194</td>\n",
       "      <td>7095414.0</td>\n",
       "      <td>7519043.00</td>\n",
       "      <td>7666397.0</td>\n",
       "      <td>7779199.00</td>\n",
       "      <td>8122546.0</td>\n",
       "    </tr>\n",
       "    <tr>\n",
       "      <th>2</th>\n",
       "      <td>28.0</td>\n",
       "      <td>7.858338e+06</td>\n",
       "      <td>204589.470400</td>\n",
       "      <td>7360372.0</td>\n",
       "      <td>7761041.75</td>\n",
       "      <td>7822971.0</td>\n",
       "      <td>7991815.25</td>\n",
       "      <td>8330147.0</td>\n",
       "    </tr>\n",
       "    <tr>\n",
       "      <th>3</th>\n",
       "      <td>31.0</td>\n",
       "      <td>8.019633e+06</td>\n",
       "      <td>181695.992632</td>\n",
       "      <td>7562433.0</td>\n",
       "      <td>7920979.00</td>\n",
       "      <td>8013013.0</td>\n",
       "      <td>8093541.50</td>\n",
       "      <td>8415152.0</td>\n",
       "    </tr>\n",
       "    <tr>\n",
       "      <th>4</th>\n",
       "      <td>30.0</td>\n",
       "      <td>8.354828e+06</td>\n",
       "      <td>202136.416078</td>\n",
       "      <td>7961949.0</td>\n",
       "      <td>8210520.00</td>\n",
       "      <td>8359936.0</td>\n",
       "      <td>8453438.50</td>\n",
       "      <td>8728816.0</td>\n",
       "    </tr>\n",
       "    <tr>\n",
       "      <th>5</th>\n",
       "      <td>31.0</td>\n",
       "      <td>8.488766e+06</td>\n",
       "      <td>253005.661988</td>\n",
       "      <td>8083372.0</td>\n",
       "      <td>8319057.00</td>\n",
       "      <td>8475700.0</td>\n",
       "      <td>8665105.50</td>\n",
       "      <td>9066670.0</td>\n",
       "    </tr>\n",
       "    <tr>\n",
       "      <th>6</th>\n",
       "      <td>30.0</td>\n",
       "      <td>8.688561e+06</td>\n",
       "      <td>235110.577830</td>\n",
       "      <td>8143101.0</td>\n",
       "      <td>8545378.75</td>\n",
       "      <td>8689331.5</td>\n",
       "      <td>8824793.00</td>\n",
       "      <td>9186579.0</td>\n",
       "    </tr>\n",
       "    <tr>\n",
       "      <th>7</th>\n",
       "      <td>31.0</td>\n",
       "      <td>8.863742e+06</td>\n",
       "      <td>238672.466748</td>\n",
       "      <td>8326629.0</td>\n",
       "      <td>8679172.50</td>\n",
       "      <td>8869283.0</td>\n",
       "      <td>9007365.50</td>\n",
       "      <td>9329236.0</td>\n",
       "    </tr>\n",
       "    <tr>\n",
       "      <th>8</th>\n",
       "      <td>31.0</td>\n",
       "      <td>9.159459e+06</td>\n",
       "      <td>211609.659657</td>\n",
       "      <td>8778271.0</td>\n",
       "      <td>8971331.00</td>\n",
       "      <td>9160096.0</td>\n",
       "      <td>9360275.00</td>\n",
       "      <td>9589375.0</td>\n",
       "    </tr>\n",
       "    <tr>\n",
       "      <th>9</th>\n",
       "      <td>30.0</td>\n",
       "      <td>9.371538e+06</td>\n",
       "      <td>232713.007998</td>\n",
       "      <td>8930331.0</td>\n",
       "      <td>9199415.25</td>\n",
       "      <td>9346401.5</td>\n",
       "      <td>9553935.75</td>\n",
       "      <td>9871832.0</td>\n",
       "    </tr>\n",
       "    <tr>\n",
       "      <th>10</th>\n",
       "      <td>31.0</td>\n",
       "      <td>9.547264e+06</td>\n",
       "      <td>167401.811119</td>\n",
       "      <td>9113802.0</td>\n",
       "      <td>9455336.50</td>\n",
       "      <td>9540428.0</td>\n",
       "      <td>9651636.50</td>\n",
       "      <td>9879362.0</td>\n",
       "    </tr>\n",
       "    <tr>\n",
       "      <th>11</th>\n",
       "      <td>30.0</td>\n",
       "      <td>9.869505e+06</td>\n",
       "      <td>213379.962899</td>\n",
       "      <td>9383028.0</td>\n",
       "      <td>9698901.50</td>\n",
       "      <td>9878537.0</td>\n",
       "      <td>9998776.75</td>\n",
       "      <td>10299217.0</td>\n",
       "    </tr>\n",
       "    <tr>\n",
       "      <th>12</th>\n",
       "      <td>31.0</td>\n",
       "      <td>9.998345e+06</td>\n",
       "      <td>284837.530172</td>\n",
       "      <td>9464659.0</td>\n",
       "      <td>9751567.00</td>\n",
       "      <td>10016144.0</td>\n",
       "      <td>10215316.00</td>\n",
       "      <td>10738865.0</td>\n",
       "    </tr>\n",
       "  </tbody>\n",
       "</table>\n",
       "</div>"
      ],
      "text/plain": [
       "       count          mean            std        min         25%         50%  \\\n",
       "month                                                                          \n",
       "1       31.0  7.636667e+06  241929.292194  7095414.0  7519043.00   7666397.0   \n",
       "2       28.0  7.858338e+06  204589.470400  7360372.0  7761041.75   7822971.0   \n",
       "3       31.0  8.019633e+06  181695.992632  7562433.0  7920979.00   8013013.0   \n",
       "4       30.0  8.354828e+06  202136.416078  7961949.0  8210520.00   8359936.0   \n",
       "5       31.0  8.488766e+06  253005.661988  8083372.0  8319057.00   8475700.0   \n",
       "6       30.0  8.688561e+06  235110.577830  8143101.0  8545378.75   8689331.5   \n",
       "7       31.0  8.863742e+06  238672.466748  8326629.0  8679172.50   8869283.0   \n",
       "8       31.0  9.159459e+06  211609.659657  8778271.0  8971331.00   9160096.0   \n",
       "9       30.0  9.371538e+06  232713.007998  8930331.0  9199415.25   9346401.5   \n",
       "10      31.0  9.547264e+06  167401.811119  9113802.0  9455336.50   9540428.0   \n",
       "11      30.0  9.869505e+06  213379.962899  9383028.0  9698901.50   9878537.0   \n",
       "12      31.0  9.998345e+06  284837.530172  9464659.0  9751567.00  10016144.0   \n",
       "\n",
       "               75%         max  \n",
       "month                           \n",
       "1       7779199.00   8122546.0  \n",
       "2       7991815.25   8330147.0  \n",
       "3       8093541.50   8415152.0  \n",
       "4       8453438.50   8728816.0  \n",
       "5       8665105.50   9066670.0  \n",
       "6       8824793.00   9186579.0  \n",
       "7       9007365.50   9329236.0  \n",
       "8       9360275.00   9589375.0  \n",
       "9       9553935.75   9871832.0  \n",
       "10      9651636.50   9879362.0  \n",
       "11      9998776.75  10299217.0  \n",
       "12     10215316.00  10738865.0  "
      ]
     },
     "execution_count": 21,
     "metadata": {},
     "output_type": "execute_result"
    }
   ],
   "source": [
    "description_of_monthly_receipts = provided_data_expanded_df.groupby(\"month\")[\"Receipt_Count\"].describe()\n",
    "description_of_monthly_receipts"
   ]
  },
  {
   "cell_type": "code",
   "execution_count": 22,
   "id": "2a2fd060",
   "metadata": {},
   "outputs": [],
   "source": [
    "MONTH_NAMES = [\"January\",\"February\",\"March\",\"April\",\"May\",\"June\",\"July\",\"August\",\"September\",\"October\",\"November\",\"December\"]\n",
    "description_of_monthly_receipts.rename(index={index+1:month for index,month in enumerate(MONTH_NAMES)},inplace=True)\n"
   ]
  },
  {
   "cell_type": "code",
   "execution_count": 23,
   "id": "b23f6b1d",
   "metadata": {},
   "outputs": [
    {
     "data": {
      "text/plain": [
       "<AxesSubplot: xlabel='Month', ylabel='Mean (Receipt_Count)'>"
      ]
     },
     "execution_count": 23,
     "metadata": {},
     "output_type": "execute_result"
    },
    {
     "data": {
      "image/png": "[encoded data removed]",
      "text/plain": [
       "<Figure size 1400x800 with 1 Axes>"
      ]
     },
     "metadata": {},
     "output_type": "display_data"
    }
   ],
   "source": [
    "description_of_monthly_receipts.plot(y=\"mean\",figsize=(14,8),xlabel=\"Month\",ylabel=\"Mean (Receipt_Count)\",kind=\"bar\")"
   ]
  },
  {
   "cell_type": "markdown",
   "id": "b9a279e0",
   "metadata": {},
   "source": [
    "## Now, let's look over the month-over-month changes"
   ]
  },
  {
   "cell_type": "code",
   "execution_count": 24,
   "id": "aa6f8972",
   "metadata": {},
   "outputs": [
    {
     "data": {
      "text/html": [
       "<div>\n",
       "<style scoped>\n",
       "    .dataframe tbody tr th:only-of-type {\n",
       "        vertical-align: middle;\n",
       "    }\n",
       "\n",
       "    .dataframe tbody tr th {\n",
       "        vertical-align: top;\n",
       "    }\n",
       "\n",
       "    .dataframe thead th {\n",
       "        text-align: right;\n",
       "    }\n",
       "</style>\n",
       "<table border=\"1\" class=\"dataframe\">\n",
       "  <thead>\n",
       "    <tr style=\"text-align: right;\">\n",
       "      <th></th>\n",
       "      <th>count</th>\n",
       "      <th>mean</th>\n",
       "      <th>std</th>\n",
       "      <th>min</th>\n",
       "      <th>25%</th>\n",
       "      <th>50%</th>\n",
       "      <th>75%</th>\n",
       "      <th>max</th>\n",
       "    </tr>\n",
       "    <tr>\n",
       "      <th>month</th>\n",
       "      <th></th>\n",
       "      <th></th>\n",
       "      <th></th>\n",
       "      <th></th>\n",
       "      <th></th>\n",
       "      <th></th>\n",
       "      <th></th>\n",
       "      <th></th>\n",
       "    </tr>\n",
       "  </thead>\n",
       "  <tbody>\n",
       "    <tr>\n",
       "      <th>January</th>\n",
       "      <td>NaN</td>\n",
       "      <td>NaN</td>\n",
       "      <td>NaN</td>\n",
       "      <td>NaN</td>\n",
       "      <td>NaN</td>\n",
       "      <td>NaN</td>\n",
       "      <td>NaN</td>\n",
       "      <td>NaN</td>\n",
       "    </tr>\n",
       "    <tr>\n",
       "      <th>February</th>\n",
       "      <td>-3.0</td>\n",
       "      <td>221670.534562</td>\n",
       "      <td>-37339.821794</td>\n",
       "      <td>264958.0</td>\n",
       "      <td>241998.75</td>\n",
       "      <td>156574.0</td>\n",
       "      <td>212616.25</td>\n",
       "      <td>207601.0</td>\n",
       "    </tr>\n",
       "    <tr>\n",
       "      <th>March</th>\n",
       "      <td>3.0</td>\n",
       "      <td>161295.207373</td>\n",
       "      <td>-22893.477768</td>\n",
       "      <td>202061.0</td>\n",
       "      <td>159937.25</td>\n",
       "      <td>190042.0</td>\n",
       "      <td>101726.25</td>\n",
       "      <td>85005.0</td>\n",
       "    </tr>\n",
       "    <tr>\n",
       "      <th>April</th>\n",
       "      <td>-1.0</td>\n",
       "      <td>335194.602151</td>\n",
       "      <td>20440.423446</td>\n",
       "      <td>399516.0</td>\n",
       "      <td>289541.00</td>\n",
       "      <td>346923.0</td>\n",
       "      <td>359897.00</td>\n",
       "      <td>313664.0</td>\n",
       "    </tr>\n",
       "    <tr>\n",
       "      <th>May</th>\n",
       "      <td>1.0</td>\n",
       "      <td>133938.397849</td>\n",
       "      <td>50869.245910</td>\n",
       "      <td>121423.0</td>\n",
       "      <td>108537.00</td>\n",
       "      <td>115764.0</td>\n",
       "      <td>211667.00</td>\n",
       "      <td>337854.0</td>\n",
       "    </tr>\n",
       "    <tr>\n",
       "      <th>June</th>\n",
       "      <td>-1.0</td>\n",
       "      <td>199795.268817</td>\n",
       "      <td>-17895.084158</td>\n",
       "      <td>59729.0</td>\n",
       "      <td>226321.75</td>\n",
       "      <td>213631.5</td>\n",
       "      <td>159687.50</td>\n",
       "      <td>119909.0</td>\n",
       "    </tr>\n",
       "    <tr>\n",
       "      <th>July</th>\n",
       "      <td>1.0</td>\n",
       "      <td>175180.698925</td>\n",
       "      <td>3561.888918</td>\n",
       "      <td>183528.0</td>\n",
       "      <td>133793.75</td>\n",
       "      <td>179951.5</td>\n",
       "      <td>182572.50</td>\n",
       "      <td>142657.0</td>\n",
       "    </tr>\n",
       "    <tr>\n",
       "      <th>August</th>\n",
       "      <td>0.0</td>\n",
       "      <td>295717.032258</td>\n",
       "      <td>-27062.807091</td>\n",
       "      <td>451642.0</td>\n",
       "      <td>292158.50</td>\n",
       "      <td>290813.0</td>\n",
       "      <td>352909.50</td>\n",
       "      <td>260139.0</td>\n",
       "    </tr>\n",
       "    <tr>\n",
       "      <th>September</th>\n",
       "      <td>-1.0</td>\n",
       "      <td>212079.402151</td>\n",
       "      <td>21103.348341</td>\n",
       "      <td>152060.0</td>\n",
       "      <td>228084.25</td>\n",
       "      <td>186305.5</td>\n",
       "      <td>193660.75</td>\n",
       "      <td>282457.0</td>\n",
       "    </tr>\n",
       "    <tr>\n",
       "      <th>October</th>\n",
       "      <td>1.0</td>\n",
       "      <td>175725.565591</td>\n",
       "      <td>-65311.196879</td>\n",
       "      <td>183471.0</td>\n",
       "      <td>255921.25</td>\n",
       "      <td>194026.5</td>\n",
       "      <td>97700.75</td>\n",
       "      <td>7530.0</td>\n",
       "    </tr>\n",
       "    <tr>\n",
       "      <th>November</th>\n",
       "      <td>-1.0</td>\n",
       "      <td>322241.367742</td>\n",
       "      <td>45978.151780</td>\n",
       "      <td>269226.0</td>\n",
       "      <td>243565.00</td>\n",
       "      <td>338109.0</td>\n",
       "      <td>347140.25</td>\n",
       "      <td>419855.0</td>\n",
       "    </tr>\n",
       "    <tr>\n",
       "      <th>December</th>\n",
       "      <td>1.0</td>\n",
       "      <td>128839.245161</td>\n",
       "      <td>71457.567273</td>\n",
       "      <td>81631.0</td>\n",
       "      <td>52665.50</td>\n",
       "      <td>137607.0</td>\n",
       "      <td>216539.25</td>\n",
       "      <td>439648.0</td>\n",
       "    </tr>\n",
       "  </tbody>\n",
       "</table>\n",
       "</div>"
      ],
      "text/plain": [
       "           count           mean           std       min        25%       50%  \\\n",
       "month                                                                          \n",
       "January      NaN            NaN           NaN       NaN        NaN       NaN   \n",
       "February    -3.0  221670.534562 -37339.821794  264958.0  241998.75  156574.0   \n",
       "March        3.0  161295.207373 -22893.477768  202061.0  159937.25  190042.0   \n",
       "April       -1.0  335194.602151  20440.423446  399516.0  289541.00  346923.0   \n",
       "May          1.0  133938.397849  50869.245910  121423.0  108537.00  115764.0   \n",
       "June        -1.0  199795.268817 -17895.084158   59729.0  226321.75  213631.5   \n",
       "July         1.0  175180.698925   3561.888918  183528.0  133793.75  179951.5   \n",
       "August       0.0  295717.032258 -27062.807091  451642.0  292158.50  290813.0   \n",
       "September   -1.0  212079.402151  21103.348341  152060.0  228084.25  186305.5   \n",
       "October      1.0  175725.565591 -65311.196879  183471.0  255921.25  194026.5   \n",
       "November    -1.0  322241.367742  45978.151780  269226.0  243565.00  338109.0   \n",
       "December     1.0  128839.245161  71457.567273   81631.0   52665.50  137607.0   \n",
       "\n",
       "                 75%       max  \n",
       "month                           \n",
       "January          NaN       NaN  \n",
       "February   212616.25  207601.0  \n",
       "March      101726.25   85005.0  \n",
       "April      359897.00  313664.0  \n",
       "May        211667.00  337854.0  \n",
       "June       159687.50  119909.0  \n",
       "July       182572.50  142657.0  \n",
       "August     352909.50  260139.0  \n",
       "September  193660.75  282457.0  \n",
       "October     97700.75    7530.0  \n",
       "November   347140.25  419855.0  \n",
       "December   216539.25  439648.0  "
      ]
     },
     "execution_count": 24,
     "metadata": {},
     "output_type": "execute_result"
    }
   ],
   "source": [
    "month_over_month_difference = description_of_monthly_receipts.diff()\n",
    "month_over_month_difference"
   ]
  },
  {
   "attachments": {},
   "cell_type": "markdown",
   "id": "fcf89ba4",
   "metadata": {},
   "source": [
    "### Viewing the monthly distribution"
   ]
  },
  {
   "cell_type": "code",
   "execution_count": null,
   "id": "70eed0bc",
   "metadata": {},
   "outputs": [],
   "source": [
    "for month_index, month in enumerate(MONTH_NAMES):\n",
    "    monthly_split_mask = provided_data_expanded_df[\"month\"] == month_index+1\n",
    "    fig, ax = plt.subplots()\n",
    "    ax.hist(provided_data_expanded_df.loc[monthly_split_mask][\"Receipt_Count\"], 10, facecolor='blue', alpha=0.5)\n",
    "    ax.set_title(month)"
   ]
  },
  {
   "cell_type": "code",
   "execution_count": 25,
   "id": "30f72bcf",
   "metadata": {},
   "outputs": [
    {
     "data": {
      "text/plain": [
       "<AxesSubplot: xlabel='Month', ylabel='Mean (Receipt_Count)'>"
      ]
     },
     "execution_count": 25,
     "metadata": {},
     "output_type": "execute_result"
    },
    {
     "data": {
      "image/png": "[encoded data removed]",
      "text/plain": [
       "<Figure size 1400x800 with 1 Axes>"
      ]
     },
     "metadata": {},
     "output_type": "display_data"
    }
   ],
   "source": [
    "month_over_month_difference.plot(y=\"mean\",figsize=(14,8),xlabel=\"Month\",ylabel=\"Mean (Receipt_Count)\",kind=\"bar\")"
   ]
  },
  {
   "cell_type": "code",
   "execution_count": 26,
   "id": "93c88461",
   "metadata": {},
   "outputs": [
    {
     "data": {
      "text/html": [
       "<div>\n",
       "<style scoped>\n",
       "    .dataframe tbody tr th:only-of-type {\n",
       "        vertical-align: middle;\n",
       "    }\n",
       "\n",
       "    .dataframe tbody tr th {\n",
       "        vertical-align: top;\n",
       "    }\n",
       "\n",
       "    .dataframe thead th {\n",
       "        text-align: right;\n",
       "    }\n",
       "</style>\n",
       "<table border=\"1\" class=\"dataframe\">\n",
       "  <thead>\n",
       "    <tr style=\"text-align: right;\">\n",
       "      <th></th>\n",
       "      <th>count</th>\n",
       "      <th>mean</th>\n",
       "      <th>std</th>\n",
       "      <th>min</th>\n",
       "      <th>25%</th>\n",
       "      <th>50%</th>\n",
       "      <th>75%</th>\n",
       "      <th>max</th>\n",
       "    </tr>\n",
       "  </thead>\n",
       "  <tbody>\n",
       "    <tr>\n",
       "      <th>count</th>\n",
       "      <td>11.000000</td>\n",
       "      <td>11.000000</td>\n",
       "      <td>11.000000</td>\n",
       "      <td>11.000000</td>\n",
       "      <td>11.000000</td>\n",
       "      <td>11.000000</td>\n",
       "      <td>11.000000</td>\n",
       "      <td>11.000000</td>\n",
       "    </tr>\n",
       "    <tr>\n",
       "      <th>mean</th>\n",
       "      <td>0.000000</td>\n",
       "      <td>214697.938416</td>\n",
       "      <td>3900.748907</td>\n",
       "      <td>215385.909091</td>\n",
       "      <td>202956.727273</td>\n",
       "      <td>213613.363636</td>\n",
       "      <td>221465.181818</td>\n",
       "      <td>237847.181818</td>\n",
       "    </tr>\n",
       "    <tr>\n",
       "      <th>std</th>\n",
       "      <td>1.612452</td>\n",
       "      <td>72631.136893</td>\n",
       "      <td>42134.172796</td>\n",
       "      <td>123388.276409</td>\n",
       "      <td>77939.971767</td>\n",
       "      <td>77880.328695</td>\n",
       "      <td>93910.078304</td>\n",
       "      <td>138700.787481</td>\n",
       "    </tr>\n",
       "    <tr>\n",
       "      <th>min</th>\n",
       "      <td>-3.000000</td>\n",
       "      <td>128839.245161</td>\n",
       "      <td>-65311.196879</td>\n",
       "      <td>59729.000000</td>\n",
       "      <td>52665.500000</td>\n",
       "      <td>115764.000000</td>\n",
       "      <td>97700.750000</td>\n",
       "      <td>7530.000000</td>\n",
       "    </tr>\n",
       "    <tr>\n",
       "      <th>25%</th>\n",
       "      <td>-1.000000</td>\n",
       "      <td>168237.953149</td>\n",
       "      <td>-24978.142429</td>\n",
       "      <td>136741.500000</td>\n",
       "      <td>146865.500000</td>\n",
       "      <td>168262.750000</td>\n",
       "      <td>171130.000000</td>\n",
       "      <td>131283.000000</td>\n",
       "    </tr>\n",
       "    <tr>\n",
       "      <th>50%</th>\n",
       "      <td>0.000000</td>\n",
       "      <td>199795.268817</td>\n",
       "      <td>3561.888918</td>\n",
       "      <td>183528.000000</td>\n",
       "      <td>228084.250000</td>\n",
       "      <td>190042.000000</td>\n",
       "      <td>211667.000000</td>\n",
       "      <td>260139.000000</td>\n",
       "    </tr>\n",
       "    <tr>\n",
       "      <th>75%</th>\n",
       "      <td>1.000000</td>\n",
       "      <td>258693.783410</td>\n",
       "      <td>33540.750061</td>\n",
       "      <td>267092.000000</td>\n",
       "      <td>249743.125000</td>\n",
       "      <td>252222.250000</td>\n",
       "      <td>281839.750000</td>\n",
       "      <td>325759.000000</td>\n",
       "    </tr>\n",
       "    <tr>\n",
       "      <th>max</th>\n",
       "      <td>3.000000</td>\n",
       "      <td>335194.602151</td>\n",
       "      <td>71457.567273</td>\n",
       "      <td>451642.000000</td>\n",
       "      <td>292158.500000</td>\n",
       "      <td>346923.000000</td>\n",
       "      <td>359897.000000</td>\n",
       "      <td>439648.000000</td>\n",
       "    </tr>\n",
       "  </tbody>\n",
       "</table>\n",
       "</div>"
      ],
      "text/plain": [
       "           count           mean           std            min            25%  \\\n",
       "count  11.000000      11.000000     11.000000      11.000000      11.000000   \n",
       "mean    0.000000  214697.938416   3900.748907  215385.909091  202956.727273   \n",
       "std     1.612452   72631.136893  42134.172796  123388.276409   77939.971767   \n",
       "min    -3.000000  128839.245161 -65311.196879   59729.000000   52665.500000   \n",
       "25%    -1.000000  168237.953149 -24978.142429  136741.500000  146865.500000   \n",
       "50%     0.000000  199795.268817   3561.888918  183528.000000  228084.250000   \n",
       "75%     1.000000  258693.783410  33540.750061  267092.000000  249743.125000   \n",
       "max     3.000000  335194.602151  71457.567273  451642.000000  292158.500000   \n",
       "\n",
       "                 50%            75%            max  \n",
       "count      11.000000      11.000000      11.000000  \n",
       "mean   213613.363636  221465.181818  237847.181818  \n",
       "std     77880.328695   93910.078304  138700.787481  \n",
       "min    115764.000000   97700.750000    7530.000000  \n",
       "25%    168262.750000  171130.000000  131283.000000  \n",
       "50%    190042.000000  211667.000000  260139.000000  \n",
       "75%    252222.250000  281839.750000  325759.000000  \n",
       "max    346923.000000  359897.000000  439648.000000  "
      ]
     },
     "execution_count": 26,
     "metadata": {},
     "output_type": "execute_result"
    }
   ],
   "source": [
    "month_over_month_statistics = month_over_month_difference.describe()\n",
    "month_over_month_statistics"
   ]
  },
  {
   "cell_type": "markdown",
   "id": "1ced414b",
   "metadata": {},
   "source": [
    "### Thoughts on Month-Over-Month view\n",
    "\n",
    "There's a 3900 standard deviation in month-over-month growth. Compared to the average month-over-month growth of 214K, this is about 2% in variability. There doesn't seem to be a strong trend in month's affect on the Receipt_Count variable."
   ]
  },
  {
   "cell_type": "markdown",
   "id": "09dd231d",
   "metadata": {},
   "source": [
    "# Feature Importance\n",
    "\n",
    "In this section, I'll look at the correlation and Principle Component Analysis between variables to decide which ones have an affect on the Target (Receipt_Count)"
   ]
  },
  {
   "cell_type": "markdown",
   "id": "45b7eea8",
   "metadata": {},
   "source": [
    "## Correlation Matrix"
   ]
  },
  {
   "cell_type": "code",
   "execution_count": 27,
   "id": "b64beaab",
   "metadata": {},
   "outputs": [],
   "source": [
    "# provided_data_expanded_df = provided_data_expanded_df.reset_index()"
   ]
  },
  {
   "cell_type": "code",
   "execution_count": 46,
   "id": "211004fd",
   "metadata": {},
   "outputs": [],
   "source": [
    "data_for_correlation = provided_data_expanded_df.copy()\n",
    "data_for_correlation = data_for_correlation.drop(columns=[\"year\"])"
   ]
  },
  {
   "cell_type": "code",
   "execution_count": 47,
   "id": "58954b1f",
   "metadata": {},
   "outputs": [
    {
     "data": {
      "text/html": [
       "<div>\n",
       "<style scoped>\n",
       "    .dataframe tbody tr th:only-of-type {\n",
       "        vertical-align: middle;\n",
       "    }\n",
       "\n",
       "    .dataframe tbody tr th {\n",
       "        vertical-align: top;\n",
       "    }\n",
       "\n",
       "    .dataframe thead th {\n",
       "        text-align: right;\n",
       "    }\n",
       "</style>\n",
       "<table border=\"1\" class=\"dataframe\">\n",
       "  <thead>\n",
       "    <tr style=\"text-align: right;\">\n",
       "      <th></th>\n",
       "      <th># Date</th>\n",
       "      <th>Receipt_Count</th>\n",
       "      <th>day</th>\n",
       "      <th>weekday</th>\n",
       "      <th>month</th>\n",
       "      <th>week</th>\n",
       "      <th>timestamp</th>\n",
       "    </tr>\n",
       "  </thead>\n",
       "  <tbody>\n",
       "    <tr>\n",
       "      <th>0</th>\n",
       "      <td>2021-01-01</td>\n",
       "      <td>7564766</td>\n",
       "      <td>1</td>\n",
       "      <td>4</td>\n",
       "      <td>1</td>\n",
       "      <td>53</td>\n",
       "      <td>1.609459e+09</td>\n",
       "    </tr>\n",
       "    <tr>\n",
       "      <th>1</th>\n",
       "      <td>2021-01-02</td>\n",
       "      <td>7455524</td>\n",
       "      <td>2</td>\n",
       "      <td>5</td>\n",
       "      <td>1</td>\n",
       "      <td>53</td>\n",
       "      <td>1.609546e+09</td>\n",
       "    </tr>\n",
       "    <tr>\n",
       "      <th>2</th>\n",
       "      <td>2021-01-03</td>\n",
       "      <td>7095414</td>\n",
       "      <td>3</td>\n",
       "      <td>6</td>\n",
       "      <td>1</td>\n",
       "      <td>53</td>\n",
       "      <td>1.609632e+09</td>\n",
       "    </tr>\n",
       "    <tr>\n",
       "      <th>3</th>\n",
       "      <td>2021-01-04</td>\n",
       "      <td>7666163</td>\n",
       "      <td>4</td>\n",
       "      <td>0</td>\n",
       "      <td>1</td>\n",
       "      <td>1</td>\n",
       "      <td>1.609718e+09</td>\n",
       "    </tr>\n",
       "    <tr>\n",
       "      <th>4</th>\n",
       "      <td>2021-01-05</td>\n",
       "      <td>7771289</td>\n",
       "      <td>5</td>\n",
       "      <td>1</td>\n",
       "      <td>1</td>\n",
       "      <td>1</td>\n",
       "      <td>1.609805e+09</td>\n",
       "    </tr>\n",
       "    <tr>\n",
       "      <th>...</th>\n",
       "      <td>...</td>\n",
       "      <td>...</td>\n",
       "      <td>...</td>\n",
       "      <td>...</td>\n",
       "      <td>...</td>\n",
       "      <td>...</td>\n",
       "      <td>...</td>\n",
       "    </tr>\n",
       "    <tr>\n",
       "      <th>360</th>\n",
       "      <td>2021-12-27</td>\n",
       "      <td>10350408</td>\n",
       "      <td>27</td>\n",
       "      <td>0</td>\n",
       "      <td>12</td>\n",
       "      <td>52</td>\n",
       "      <td>1.640563e+09</td>\n",
       "    </tr>\n",
       "    <tr>\n",
       "      <th>361</th>\n",
       "      <td>2021-12-28</td>\n",
       "      <td>10219445</td>\n",
       "      <td>28</td>\n",
       "      <td>1</td>\n",
       "      <td>12</td>\n",
       "      <td>52</td>\n",
       "      <td>1.640650e+09</td>\n",
       "    </tr>\n",
       "    <tr>\n",
       "      <th>362</th>\n",
       "      <td>2021-12-29</td>\n",
       "      <td>10313337</td>\n",
       "      <td>29</td>\n",
       "      <td>2</td>\n",
       "      <td>12</td>\n",
       "      <td>52</td>\n",
       "      <td>1.640736e+09</td>\n",
       "    </tr>\n",
       "    <tr>\n",
       "      <th>363</th>\n",
       "      <td>2021-12-30</td>\n",
       "      <td>10310644</td>\n",
       "      <td>30</td>\n",
       "      <td>3</td>\n",
       "      <td>12</td>\n",
       "      <td>52</td>\n",
       "      <td>1.640822e+09</td>\n",
       "    </tr>\n",
       "    <tr>\n",
       "      <th>364</th>\n",
       "      <td>2021-12-31</td>\n",
       "      <td>10211187</td>\n",
       "      <td>31</td>\n",
       "      <td>4</td>\n",
       "      <td>12</td>\n",
       "      <td>52</td>\n",
       "      <td>1.640909e+09</td>\n",
       "    </tr>\n",
       "  </tbody>\n",
       "</table>\n",
       "<p>365 rows × 7 columns</p>\n",
       "</div>"
      ],
      "text/plain": [
       "        # Date  Receipt_Count  day  weekday  month  week     timestamp\n",
       "0   2021-01-01        7564766    1        4      1    53  1.609459e+09\n",
       "1   2021-01-02        7455524    2        5      1    53  1.609546e+09\n",
       "2   2021-01-03        7095414    3        6      1    53  1.609632e+09\n",
       "3   2021-01-04        7666163    4        0      1     1  1.609718e+09\n",
       "4   2021-01-05        7771289    5        1      1     1  1.609805e+09\n",
       "..         ...            ...  ...      ...    ...   ...           ...\n",
       "360 2021-12-27       10350408   27        0     12    52  1.640563e+09\n",
       "361 2021-12-28       10219445   28        1     12    52  1.640650e+09\n",
       "362 2021-12-29       10313337   29        2     12    52  1.640736e+09\n",
       "363 2021-12-30       10310644   30        3     12    52  1.640822e+09\n",
       "364 2021-12-31       10211187   31        4     12    52  1.640909e+09\n",
       "\n",
       "[365 rows x 7 columns]"
      ]
     },
     "execution_count": 47,
     "metadata": {},
     "output_type": "execute_result"
    }
   ],
   "source": [
    "data_for_correlation[\"timestamp\"] = pd.to_datetime(data_for_correlation['# Date']).astype(int)/ 10**9\n",
    "data_for_correlation"
   ]
  },
  {
   "cell_type": "code",
   "execution_count": 48,
   "id": "47f0eb2b",
   "metadata": {},
   "outputs": [
    {
     "name": "stderr",
     "output_type": "stream",
     "text": [
      "/var/folders/k2/rshxrq014ylghy11g120k3vh0000gn/T/ipykernel_31336/438574256.py:1: FutureWarning: The default value of numeric_only in DataFrame.corr is deprecated. In a future version, it will default to False. Select only valid columns or specify the value of numeric_only to silence this warning.\n",
      "  feature_correlation_matrix = data_for_correlation.corr()\n"
     ]
    },
    {
     "data": {
      "text/html": [
       "<div>\n",
       "<style scoped>\n",
       "    .dataframe tbody tr th:only-of-type {\n",
       "        vertical-align: middle;\n",
       "    }\n",
       "\n",
       "    .dataframe tbody tr th {\n",
       "        vertical-align: top;\n",
       "    }\n",
       "\n",
       "    .dataframe thead th {\n",
       "        text-align: right;\n",
       "    }\n",
       "</style>\n",
       "<table border=\"1\" class=\"dataframe\">\n",
       "  <thead>\n",
       "    <tr style=\"text-align: right;\">\n",
       "      <th></th>\n",
       "      <th>Receipt_Count</th>\n",
       "      <th>day</th>\n",
       "      <th>weekday</th>\n",
       "      <th>month</th>\n",
       "      <th>week</th>\n",
       "      <th>timestamp</th>\n",
       "    </tr>\n",
       "  </thead>\n",
       "  <tbody>\n",
       "    <tr>\n",
       "      <th>Receipt_Count</th>\n",
       "      <td>1.000000</td>\n",
       "      <td>0.084250</td>\n",
       "      <td>-0.005646</td>\n",
       "      <td>0.957785</td>\n",
       "      <td>0.906329</td>\n",
       "      <td>0.960658</td>\n",
       "    </tr>\n",
       "    <tr>\n",
       "      <th>day</th>\n",
       "      <td>0.084250</td>\n",
       "      <td>1.000000</td>\n",
       "      <td>0.016256</td>\n",
       "      <td>0.011893</td>\n",
       "      <td>0.049652</td>\n",
       "      <td>0.095131</td>\n",
       "    </tr>\n",
       "    <tr>\n",
       "      <th>weekday</th>\n",
       "      <td>-0.005646</td>\n",
       "      <td>0.016256</td>\n",
       "      <td>1.000000</td>\n",
       "      <td>-0.008561</td>\n",
       "      <td>0.002861</td>\n",
       "      <td>-0.007106</td>\n",
       "    </tr>\n",
       "    <tr>\n",
       "      <th>month</th>\n",
       "      <td>0.957785</td>\n",
       "      <td>0.011893</td>\n",
       "      <td>-0.008561</td>\n",
       "      <td>1.000000</td>\n",
       "      <td>0.949729</td>\n",
       "      <td>0.996504</td>\n",
       "    </tr>\n",
       "    <tr>\n",
       "      <th>week</th>\n",
       "      <td>0.906329</td>\n",
       "      <td>0.049652</td>\n",
       "      <td>0.002861</td>\n",
       "      <td>0.949729</td>\n",
       "      <td>1.000000</td>\n",
       "      <td>0.949867</td>\n",
       "    </tr>\n",
       "    <tr>\n",
       "      <th>timestamp</th>\n",
       "      <td>0.960658</td>\n",
       "      <td>0.095131</td>\n",
       "      <td>-0.007106</td>\n",
       "      <td>0.996504</td>\n",
       "      <td>0.949867</td>\n",
       "      <td>1.000000</td>\n",
       "    </tr>\n",
       "  </tbody>\n",
       "</table>\n",
       "</div>"
      ],
      "text/plain": [
       "               Receipt_Count       day   weekday     month      week  \\\n",
       "Receipt_Count       1.000000  0.084250 -0.005646  0.957785  0.906329   \n",
       "day                 0.084250  1.000000  0.016256  0.011893  0.049652   \n",
       "weekday            -0.005646  0.016256  1.000000 -0.008561  0.002861   \n",
       "month               0.957785  0.011893 -0.008561  1.000000  0.949729   \n",
       "week                0.906329  0.049652  0.002861  0.949729  1.000000   \n",
       "timestamp           0.960658  0.095131 -0.007106  0.996504  0.949867   \n",
       "\n",
       "               timestamp  \n",
       "Receipt_Count   0.960658  \n",
       "day             0.095131  \n",
       "weekday        -0.007106  \n",
       "month           0.996504  \n",
       "week            0.949867  \n",
       "timestamp       1.000000  "
      ]
     },
     "execution_count": 48,
     "metadata": {},
     "output_type": "execute_result"
    }
   ],
   "source": [
    "feature_correlation_matrix = data_for_correlation.corr()\n",
    "feature_correlation_matrix"
   ]
  },
  {
   "cell_type": "code",
   "execution_count": 49,
   "id": "87cd946a",
   "metadata": {},
   "outputs": [
    {
     "data": {
      "image/png": "[encoded data removed]",
      "text/plain": [
       "<Figure size 1600x1200 with 2 Axes>"
      ]
     },
     "metadata": {},
     "output_type": "display_data"
    }
   ],
   "source": [
    "f = plt.figure(figsize=(16, 12))\n",
    "plt.matshow(feature_correlation_matrix, fignum=f.number)\n",
    "plt.xticks(range(data_for_correlation.select_dtypes(['number']).shape[1]), data_for_correlation.select_dtypes(['number']).columns, fontsize=14, rotation=45)\n",
    "plt.yticks(range(data_for_correlation.select_dtypes(['number']).shape[1]), data_for_correlation.select_dtypes(['number']).columns, fontsize=14)\n",
    "cb = plt.colorbar()\n",
    "cb.ax.tick_params(labelsize=14)\n",
    "plt.title('Correlation Matrix', fontsize=16);"
   ]
  },
  {
   "cell_type": "markdown",
   "id": "38a0ef37",
   "metadata": {},
   "source": [
    "### Thoughts on Feature Correlation\n",
    "\n",
    "Here, I see that the unix timestamp (or \"# Date\") column has the most correlation to the Target (\"Receipt_Count\"). The other columns are derivatives of \"# Date\", so they do give some correlation to \"Receipt_Count\", but not as much as the timestamp."
   ]
  },
  {
   "cell_type": "markdown",
   "id": "0d5bd9d8",
   "metadata": {},
   "source": [
    "## Principle Component Analysis (PCA)"
   ]
  },
  {
   "cell_type": "code",
   "execution_count": 50,
   "id": "d1be2d75",
   "metadata": {},
   "outputs": [
    {
     "data": {
      "text/html": [
       "<div>\n",
       "<style scoped>\n",
       "    .dataframe tbody tr th:only-of-type {\n",
       "        vertical-align: middle;\n",
       "    }\n",
       "\n",
       "    .dataframe tbody tr th {\n",
       "        vertical-align: top;\n",
       "    }\n",
       "\n",
       "    .dataframe thead th {\n",
       "        text-align: right;\n",
       "    }\n",
       "</style>\n",
       "<table border=\"1\" class=\"dataframe\">\n",
       "  <thead>\n",
       "    <tr style=\"text-align: right;\">\n",
       "      <th></th>\n",
       "      <th>Receipt_Count</th>\n",
       "      <th>day</th>\n",
       "      <th>weekday</th>\n",
       "      <th>month</th>\n",
       "      <th>week</th>\n",
       "      <th>timestamp</th>\n",
       "    </tr>\n",
       "  </thead>\n",
       "  <tbody>\n",
       "    <tr>\n",
       "      <th>0</th>\n",
       "      <td>7564766</td>\n",
       "      <td>1</td>\n",
       "      <td>4</td>\n",
       "      <td>1</td>\n",
       "      <td>53</td>\n",
       "      <td>1.609459e+09</td>\n",
       "    </tr>\n",
       "    <tr>\n",
       "      <th>1</th>\n",
       "      <td>7455524</td>\n",
       "      <td>2</td>\n",
       "      <td>5</td>\n",
       "      <td>1</td>\n",
       "      <td>53</td>\n",
       "      <td>1.609546e+09</td>\n",
       "    </tr>\n",
       "    <tr>\n",
       "      <th>2</th>\n",
       "      <td>7095414</td>\n",
       "      <td>3</td>\n",
       "      <td>6</td>\n",
       "      <td>1</td>\n",
       "      <td>53</td>\n",
       "      <td>1.609632e+09</td>\n",
       "    </tr>\n",
       "    <tr>\n",
       "      <th>3</th>\n",
       "      <td>7666163</td>\n",
       "      <td>4</td>\n",
       "      <td>0</td>\n",
       "      <td>1</td>\n",
       "      <td>1</td>\n",
       "      <td>1.609718e+09</td>\n",
       "    </tr>\n",
       "    <tr>\n",
       "      <th>4</th>\n",
       "      <td>7771289</td>\n",
       "      <td>5</td>\n",
       "      <td>1</td>\n",
       "      <td>1</td>\n",
       "      <td>1</td>\n",
       "      <td>1.609805e+09</td>\n",
       "    </tr>\n",
       "    <tr>\n",
       "      <th>...</th>\n",
       "      <td>...</td>\n",
       "      <td>...</td>\n",
       "      <td>...</td>\n",
       "      <td>...</td>\n",
       "      <td>...</td>\n",
       "      <td>...</td>\n",
       "    </tr>\n",
       "    <tr>\n",
       "      <th>360</th>\n",
       "      <td>10350408</td>\n",
       "      <td>27</td>\n",
       "      <td>0</td>\n",
       "      <td>12</td>\n",
       "      <td>52</td>\n",
       "      <td>1.640563e+09</td>\n",
       "    </tr>\n",
       "    <tr>\n",
       "      <th>361</th>\n",
       "      <td>10219445</td>\n",
       "      <td>28</td>\n",
       "      <td>1</td>\n",
       "      <td>12</td>\n",
       "      <td>52</td>\n",
       "      <td>1.640650e+09</td>\n",
       "    </tr>\n",
       "    <tr>\n",
       "      <th>362</th>\n",
       "      <td>10313337</td>\n",
       "      <td>29</td>\n",
       "      <td>2</td>\n",
       "      <td>12</td>\n",
       "      <td>52</td>\n",
       "      <td>1.640736e+09</td>\n",
       "    </tr>\n",
       "    <tr>\n",
       "      <th>363</th>\n",
       "      <td>10310644</td>\n",
       "      <td>30</td>\n",
       "      <td>3</td>\n",
       "      <td>12</td>\n",
       "      <td>52</td>\n",
       "      <td>1.640822e+09</td>\n",
       "    </tr>\n",
       "    <tr>\n",
       "      <th>364</th>\n",
       "      <td>10211187</td>\n",
       "      <td>31</td>\n",
       "      <td>4</td>\n",
       "      <td>12</td>\n",
       "      <td>52</td>\n",
       "      <td>1.640909e+09</td>\n",
       "    </tr>\n",
       "  </tbody>\n",
       "</table>\n",
       "<p>365 rows × 6 columns</p>\n",
       "</div>"
      ],
      "text/plain": [
       "     Receipt_Count  day  weekday  month  week     timestamp\n",
       "0          7564766    1        4      1    53  1.609459e+09\n",
       "1          7455524    2        5      1    53  1.609546e+09\n",
       "2          7095414    3        6      1    53  1.609632e+09\n",
       "3          7666163    4        0      1     1  1.609718e+09\n",
       "4          7771289    5        1      1     1  1.609805e+09\n",
       "..             ...  ...      ...    ...   ...           ...\n",
       "360       10350408   27        0     12    52  1.640563e+09\n",
       "361       10219445   28        1     12    52  1.640650e+09\n",
       "362       10313337   29        2     12    52  1.640736e+09\n",
       "363       10310644   30        3     12    52  1.640822e+09\n",
       "364       10211187   31        4     12    52  1.640909e+09\n",
       "\n",
       "[365 rows x 6 columns]"
      ]
     },
     "execution_count": 50,
     "metadata": {},
     "output_type": "execute_result"
    }
   ],
   "source": [
    "data_for_pca =  data_for_correlation.copy()\n",
    "data_for_pca = data_for_pca.drop(columns=[\"# Date\"])\n",
    "data_for_pca.dropna()"
   ]
  },
  {
   "cell_type": "code",
   "execution_count": 51,
   "id": "e99f946a",
   "metadata": {},
   "outputs": [
    {
     "name": "stdout",
     "output_type": "stream",
     "text": [
      "Requirement already satisfied: scikit-learn in /Users/enes/opt/anaconda3/envs/fetch/lib/python3.8/site-packages (1.2.0)\n",
      "Requirement already satisfied: threadpoolctl>=2.0.0 in /Users/enes/opt/anaconda3/envs/fetch/lib/python3.8/site-packages (from scikit-learn) (3.1.0)\n",
      "Requirement already satisfied: scipy>=1.3.2 in /Users/enes/opt/anaconda3/envs/fetch/lib/python3.8/site-packages (from scikit-learn) (1.9.3)\n",
      "Requirement already satisfied: numpy>=1.17.3 in /Users/enes/opt/anaconda3/envs/fetch/lib/python3.8/site-packages (from scikit-learn) (1.23.5)\n",
      "Requirement already satisfied: joblib>=1.1.1 in /Users/enes/opt/anaconda3/envs/fetch/lib/python3.8/site-packages (from scikit-learn) (1.2.0)\n"
     ]
    }
   ],
   "source": [
    "! pip install scikit-learn\n",
    "from sklearn.decomposition import PCA"
   ]
  },
  {
   "cell_type": "code",
   "execution_count": 52,
   "id": "1ebf9178",
   "metadata": {},
   "outputs": [
    {
     "data": {
      "text/html": [
       "<div>\n",
       "<style scoped>\n",
       "    .dataframe tbody tr th:only-of-type {\n",
       "        vertical-align: middle;\n",
       "    }\n",
       "\n",
       "    .dataframe tbody tr th {\n",
       "        vertical-align: top;\n",
       "    }\n",
       "\n",
       "    .dataframe thead th {\n",
       "        text-align: right;\n",
       "    }\n",
       "</style>\n",
       "<table border=\"1\" class=\"dataframe\">\n",
       "  <thead>\n",
       "    <tr style=\"text-align: right;\">\n",
       "      <th></th>\n",
       "      <th>Receipt_Count</th>\n",
       "      <th>day</th>\n",
       "      <th>weekday</th>\n",
       "      <th>month</th>\n",
       "      <th>week</th>\n",
       "      <th>timestamp</th>\n",
       "    </tr>\n",
       "  </thead>\n",
       "  <tbody>\n",
       "    <tr>\n",
       "      <th>0</th>\n",
       "      <td>-1.613537</td>\n",
       "      <td>-1.671209</td>\n",
       "      <td>0.498459</td>\n",
       "      <td>-1.600548</td>\n",
       "      <td>1.751915</td>\n",
       "      <td>-1.724944</td>\n",
       "    </tr>\n",
       "    <tr>\n",
       "      <th>1</th>\n",
       "      <td>-1.753231</td>\n",
       "      <td>-1.557680</td>\n",
       "      <td>0.998288</td>\n",
       "      <td>-1.600548</td>\n",
       "      <td>1.751915</td>\n",
       "      <td>-1.715466</td>\n",
       "    </tr>\n",
       "    <tr>\n",
       "      <th>2</th>\n",
       "      <td>-2.213724</td>\n",
       "      <td>-1.444151</td>\n",
       "      <td>1.498117</td>\n",
       "      <td>-1.600548</td>\n",
       "      <td>1.751915</td>\n",
       "      <td>-1.705989</td>\n",
       "    </tr>\n",
       "    <tr>\n",
       "      <th>3</th>\n",
       "      <td>-1.483874</td>\n",
       "      <td>-1.330622</td>\n",
       "      <td>-1.500856</td>\n",
       "      <td>-1.600548</td>\n",
       "      <td>-1.695964</td>\n",
       "      <td>-1.696511</td>\n",
       "    </tr>\n",
       "    <tr>\n",
       "      <th>4</th>\n",
       "      <td>-1.349444</td>\n",
       "      <td>-1.217093</td>\n",
       "      <td>-1.001027</td>\n",
       "      <td>-1.600548</td>\n",
       "      <td>-1.695964</td>\n",
       "      <td>-1.687033</td>\n",
       "    </tr>\n",
       "    <tr>\n",
       "      <th>...</th>\n",
       "      <td>...</td>\n",
       "      <td>...</td>\n",
       "      <td>...</td>\n",
       "      <td>...</td>\n",
       "      <td>...</td>\n",
       "      <td>...</td>\n",
       "    </tr>\n",
       "    <tr>\n",
       "      <th>360</th>\n",
       "      <td>1.948625</td>\n",
       "      <td>1.280545</td>\n",
       "      <td>-1.500856</td>\n",
       "      <td>1.585471</td>\n",
       "      <td>1.685609</td>\n",
       "      <td>1.687033</td>\n",
       "    </tr>\n",
       "    <tr>\n",
       "      <th>361</th>\n",
       "      <td>1.781155</td>\n",
       "      <td>1.394074</td>\n",
       "      <td>-1.001027</td>\n",
       "      <td>1.585471</td>\n",
       "      <td>1.685609</td>\n",
       "      <td>1.696511</td>\n",
       "    </tr>\n",
       "    <tr>\n",
       "      <th>362</th>\n",
       "      <td>1.901220</td>\n",
       "      <td>1.507603</td>\n",
       "      <td>-0.501198</td>\n",
       "      <td>1.585471</td>\n",
       "      <td>1.685609</td>\n",
       "      <td>1.705989</td>\n",
       "    </tr>\n",
       "    <tr>\n",
       "      <th>363</th>\n",
       "      <td>1.897776</td>\n",
       "      <td>1.621132</td>\n",
       "      <td>-0.001369</td>\n",
       "      <td>1.585471</td>\n",
       "      <td>1.685609</td>\n",
       "      <td>1.715466</td>\n",
       "    </tr>\n",
       "    <tr>\n",
       "      <th>364</th>\n",
       "      <td>1.770595</td>\n",
       "      <td>1.734661</td>\n",
       "      <td>0.498459</td>\n",
       "      <td>1.585471</td>\n",
       "      <td>1.685609</td>\n",
       "      <td>1.724944</td>\n",
       "    </tr>\n",
       "  </tbody>\n",
       "</table>\n",
       "<p>365 rows × 6 columns</p>\n",
       "</div>"
      ],
      "text/plain": [
       "     Receipt_Count       day   weekday     month      week  timestamp\n",
       "0        -1.613537 -1.671209  0.498459 -1.600548  1.751915  -1.724944\n",
       "1        -1.753231 -1.557680  0.998288 -1.600548  1.751915  -1.715466\n",
       "2        -2.213724 -1.444151  1.498117 -1.600548  1.751915  -1.705989\n",
       "3        -1.483874 -1.330622 -1.500856 -1.600548 -1.695964  -1.696511\n",
       "4        -1.349444 -1.217093 -1.001027 -1.600548 -1.695964  -1.687033\n",
       "..             ...       ...       ...       ...       ...        ...\n",
       "360       1.948625  1.280545 -1.500856  1.585471  1.685609   1.687033\n",
       "361       1.781155  1.394074 -1.001027  1.585471  1.685609   1.696511\n",
       "362       1.901220  1.507603 -0.501198  1.585471  1.685609   1.705989\n",
       "363       1.897776  1.621132 -0.001369  1.585471  1.685609   1.715466\n",
       "364       1.770595  1.734661  0.498459  1.585471  1.685609   1.724944\n",
       "\n",
       "[365 rows x 6 columns]"
      ]
     },
     "execution_count": 52,
     "metadata": {},
     "output_type": "execute_result"
    }
   ],
   "source": [
    "X_scaled = (data_for_pca - data_for_pca.mean(axis=0)) / data_for_pca.std(axis=0)\n",
    "X_scaled"
   ]
  },
  {
   "cell_type": "code",
   "execution_count": 53,
   "id": "2f6f6e10",
   "metadata": {},
   "outputs": [
    {
     "data": {
      "text/html": [
       "<div>\n",
       "<style scoped>\n",
       "    .dataframe tbody tr th:only-of-type {\n",
       "        vertical-align: middle;\n",
       "    }\n",
       "\n",
       "    .dataframe tbody tr th {\n",
       "        vertical-align: top;\n",
       "    }\n",
       "\n",
       "    .dataframe thead th {\n",
       "        text-align: right;\n",
       "    }\n",
       "</style>\n",
       "<table border=\"1\" class=\"dataframe\">\n",
       "  <thead>\n",
       "    <tr style=\"text-align: right;\">\n",
       "      <th></th>\n",
       "      <th>PC1</th>\n",
       "      <th>PC2</th>\n",
       "      <th>PC3</th>\n",
       "      <th>PC4</th>\n",
       "      <th>PC5</th>\n",
       "      <th>PC6</th>\n",
       "    </tr>\n",
       "  </thead>\n",
       "  <tbody>\n",
       "    <tr>\n",
       "      <th>0</th>\n",
       "      <td>-1.688801</td>\n",
       "      <td>-0.774152</td>\n",
       "      <td>-1.537876</td>\n",
       "      <td>2.536933</td>\n",
       "      <td>1.413803</td>\n",
       "      <td>-0.000874</td>\n",
       "    </tr>\n",
       "    <tr>\n",
       "      <th>1</th>\n",
       "      <td>-1.749917</td>\n",
       "      <td>-0.338036</td>\n",
       "      <td>-1.806786</td>\n",
       "      <td>2.623678</td>\n",
       "      <td>1.321328</td>\n",
       "      <td>-0.000661</td>\n",
       "    </tr>\n",
       "    <tr>\n",
       "      <th>2</th>\n",
       "      <td>-1.969880</td>\n",
       "      <td>0.096839</td>\n",
       "      <td>-2.077117</td>\n",
       "      <td>2.913721</td>\n",
       "      <td>1.038206</td>\n",
       "      <td>-0.000011</td>\n",
       "    </tr>\n",
       "    <tr>\n",
       "      <th>3</th>\n",
       "      <td>-3.287101</td>\n",
       "      <td>-1.913106</td>\n",
       "      <td>0.205333</td>\n",
       "      <td>-0.169891</td>\n",
       "      <td>0.071696</td>\n",
       "      <td>0.005547</td>\n",
       "    </tr>\n",
       "    <tr>\n",
       "      <th>4</th>\n",
       "      <td>-3.212482</td>\n",
       "      <td>-1.475928</td>\n",
       "      <td>-0.062363</td>\n",
       "      <td>-0.256864</td>\n",
       "      <td>0.142129</td>\n",
       "      <td>0.005387</td>\n",
       "    </tr>\n",
       "  </tbody>\n",
       "</table>\n",
       "</div>"
      ],
      "text/plain": [
       "        PC1       PC2       PC3       PC4       PC5       PC6\n",
       "0 -1.688801 -0.774152 -1.537876  2.536933  1.413803 -0.000874\n",
       "1 -1.749917 -0.338036 -1.806786  2.623678  1.321328 -0.000661\n",
       "2 -1.969880  0.096839 -2.077117  2.913721  1.038206 -0.000011\n",
       "3 -3.287101 -1.913106  0.205333 -0.169891  0.071696  0.005547\n",
       "4 -3.212482 -1.475928 -0.062363 -0.256864  0.142129  0.005387"
      ]
     },
     "execution_count": 53,
     "metadata": {},
     "output_type": "execute_result"
    }
   ],
   "source": [
    "# Create principal components\n",
    "pca = PCA()\n",
    "X_pca = pca.fit_transform(X_scaled)\n",
    "\n",
    "# Convert to dataframe\n",
    "component_names = [f\"PC{i+1}\" for i in range(X_pca.shape[1])]\n",
    "X_pca = pd.DataFrame(X_pca, columns=component_names)\n",
    "\n",
    "X_pca.head()"
   ]
  },
  {
   "cell_type": "code",
   "execution_count": 54,
   "id": "090a2fe1",
   "metadata": {},
   "outputs": [
    {
     "data": {
      "text/html": [
       "<div>\n",
       "<style scoped>\n",
       "    .dataframe tbody tr th:only-of-type {\n",
       "        vertical-align: middle;\n",
       "    }\n",
       "\n",
       "    .dataframe tbody tr th {\n",
       "        vertical-align: top;\n",
       "    }\n",
       "\n",
       "    .dataframe thead th {\n",
       "        text-align: right;\n",
       "    }\n",
       "</style>\n",
       "<table border=\"1\" class=\"dataframe\">\n",
       "  <thead>\n",
       "    <tr style=\"text-align: right;\">\n",
       "      <th></th>\n",
       "      <th>PC1</th>\n",
       "      <th>PC2</th>\n",
       "      <th>PC3</th>\n",
       "      <th>PC4</th>\n",
       "      <th>PC5</th>\n",
       "      <th>PC6</th>\n",
       "    </tr>\n",
       "  </thead>\n",
       "  <tbody>\n",
       "    <tr>\n",
       "      <th>Receipt_Count</th>\n",
       "      <td>0.495160</td>\n",
       "      <td>0.003871</td>\n",
       "      <td>0.004428</td>\n",
       "      <td>-0.633721</td>\n",
       "      <td>0.594287</td>\n",
       "      <td>-0.001362</td>\n",
       "    </tr>\n",
       "    <tr>\n",
       "      <th>day</th>\n",
       "      <td>0.041956</td>\n",
       "      <td>0.696902</td>\n",
       "      <td>0.712844</td>\n",
       "      <td>0.024455</td>\n",
       "      <td>-0.018866</td>\n",
       "      <td>-0.058883</td>\n",
       "    </tr>\n",
       "    <tr>\n",
       "      <th>weekday</th>\n",
       "      <td>-0.003008</td>\n",
       "      <td>0.715173</td>\n",
       "      <td>-0.698875</td>\n",
       "      <td>-0.007929</td>\n",
       "      <td>-0.005400</td>\n",
       "      <td>-0.000024</td>\n",
       "    </tr>\n",
       "    <tr>\n",
       "      <th>month</th>\n",
       "      <td>0.504699</td>\n",
       "      <td>-0.050430</td>\n",
       "      <td>-0.049202</td>\n",
       "      <td>-0.066192</td>\n",
       "      <td>-0.492014</td>\n",
       "      <td>-0.702749</td>\n",
       "    </tr>\n",
       "    <tr>\n",
       "      <th>week</th>\n",
       "      <td>0.492243</td>\n",
       "      <td>-0.015320</td>\n",
       "      <td>-0.029666</td>\n",
       "      <td>0.767733</td>\n",
       "      <td>0.408856</td>\n",
       "      <td>-0.001870</td>\n",
       "    </tr>\n",
       "    <tr>\n",
       "      <th>timestamp</th>\n",
       "      <td>0.505987</td>\n",
       "      <td>0.007883</td>\n",
       "      <td>0.010341</td>\n",
       "      <td>-0.062771</td>\n",
       "      <td>-0.487028</td>\n",
       "      <td>0.708993</td>\n",
       "    </tr>\n",
       "  </tbody>\n",
       "</table>\n",
       "</div>"
      ],
      "text/plain": [
       "                    PC1       PC2       PC3       PC4       PC5       PC6\n",
       "Receipt_Count  0.495160  0.003871  0.004428 -0.633721  0.594287 -0.001362\n",
       "day            0.041956  0.696902  0.712844  0.024455 -0.018866 -0.058883\n",
       "weekday       -0.003008  0.715173 -0.698875 -0.007929 -0.005400 -0.000024\n",
       "month          0.504699 -0.050430 -0.049202 -0.066192 -0.492014 -0.702749\n",
       "week           0.492243 -0.015320 -0.029666  0.767733  0.408856 -0.001870\n",
       "timestamp      0.505987  0.007883  0.010341 -0.062771 -0.487028  0.708993"
      ]
     },
     "execution_count": 54,
     "metadata": {},
     "output_type": "execute_result"
    }
   ],
   "source": [
    "loadings = pd.DataFrame(\n",
    "    pca.components_.T,  # transpose the matrix of loadings\n",
    "    columns=component_names,  # so the columns are the principal components\n",
    "    index=data_for_pca.columns,  # and the rows are the original features\n",
    ")\n",
    "loadings"
   ]
  },
  {
   "cell_type": "code",
   "execution_count": 55,
   "id": "a1e32b39",
   "metadata": {},
   "outputs": [],
   "source": [
    "def plot_variance(pca, width=8, dpi=100):\n",
    "    # Create figure\n",
    "    fig, axs = plt.subplots(1, 2)\n",
    "    n = pca.n_components_\n",
    "    grid = np.arange(1, n + 1)\n",
    "    # Explained variance\n",
    "    evr = pca.explained_variance_ratio_\n",
    "    axs[0].bar(grid, evr)\n",
    "    axs[0].set(\n",
    "        xlabel=\"Component\", title=\"% Explained Variance\", ylim=(0.0, 1.0)\n",
    "    )\n",
    "    # Cumulative Variance\n",
    "    cv = np.cumsum(evr)\n",
    "    axs[1].plot(np.r_[0, grid], np.r_[0, cv], \"o-\")\n",
    "    axs[1].set(\n",
    "        xlabel=\"Component\", title=\"% Cumulative Variance\", ylim=(0.0, 1.0)\n",
    "    )\n",
    "    # Set up figure\n",
    "    fig.set(figwidth=8, dpi=100)\n",
    "    return axs"
   ]
  },
  {
   "cell_type": "code",
   "execution_count": 56,
   "id": "46895120",
   "metadata": {},
   "outputs": [
    {
     "data": {
      "image/png": "[encoded data removed]",
      "text/plain": [
       "<Figure size 800x480 with 2 Axes>"
      ]
     },
     "metadata": {},
     "output_type": "display_data"
    }
   ],
   "source": [
    "# Look at explained variance\n",
    "plot_variance(pca);"
   ]
  },
  {
   "cell_type": "markdown",
   "id": "d9df5cd0",
   "metadata": {},
   "source": [
    "### Thoughts on Principle Component Analysis (PCA)\n",
    "\n",
    "In PCA, I can see that the first 3 Principle Components have a significant relationship with \"Receipt_Count\""
   ]
  },
  {
   "cell_type": "markdown",
   "id": "ca424f8c",
   "metadata": {},
   "source": [
    "# Conclusion\n",
    "From my exploratory analysis, I see the data came in quite clean and standardized.\n",
    "\n",
    "After analyzing the relationships between the expanded features and the target, I believe the answer to this problem is a regression algorithm. The input could be as simple as inputting \"# Date\" as a unix timestamp and outputting the prediction for \"Receipt_Count\".\n",
    "\n",
    "The reason I don't believe in adding more data to this model, is because there was no observed trends or seasonality in the dataset. Day of week, months, and weeks didn't show a pattern that can be extrapolated or interpolated over time. It seems more like a linear growth in the app. This could be discovered with more data, such as number of users using the app, users average app usage, and more from the Business Intelligence team."
   ]
  },
  {
   "cell_type": "markdown",
   "id": "c03adaf2",
   "metadata": {},
   "source": [
    "# Next Steps\n",
    "\n",
    "This assignment states not to use scikit-learn's models, so I will create my own regression model using PyTorch or Tensorflow. I'll use various loss/objective functions to see how well the model can fit with the data. \n",
    "\n",
    "In terms of training and validation data, I will use the beginning and end of the data's daterange as validation data. This outside range will more closely simulate a test dataset, where the model might be tested on the dataset before or after the training data. For example, the test set might be 2020, or even 2023 for use in production! "
   ]
  },
  {
   "cell_type": "markdown",
   "id": "fb3d121d",
   "metadata": {},
   "source": [
    "# Further Explorations\n",
    "\n",
    "The idea of how do Holiday's affect the Number of Receipts registered in the Fetch App would be an idea to explore if I had more time."
   ]
  },
  {
   "cell_type": "markdown",
   "id": "7d7383be",
   "metadata": {},
   "source": [
    "## A look into Holiday's Overlayed on the data"
   ]
  },
  {
   "cell_type": "markdown",
   "id": "ce17d588",
   "metadata": {},
   "source": [
    "Here's a Kaggle Dataset I found with a list of U.S. Holiday's. I chose U.S. to start as I know Fetch is U.S. based, and I believe this is a quick way to sample for this hypothesis.\n",
    "\n",
    "https://www.kaggle.com/datasets/donnetew/us-holiday-dates-2004-2021\n",
    "\n",
    "CSV is downloadable here\n",
    "\n",
    "https://github.com/drewrya/DS4A---Team-16/blob/main/US%20Holiday%20Dates%20(2004-2021).csv"
   ]
  },
  {
   "cell_type": "code",
   "execution_count": 39,
   "id": "a8c9cd93",
   "metadata": {},
   "outputs": [],
   "source": [
    "US_HOLIDAYS = pd.read_csv(DATA_FOLDER_PATH+\"US_Holiday_Dates.csv\")\n",
    "US_HOLIDAYS = US_HOLIDAYS.rename(columns={\"Month\":\"month\",\"Day\":\"day\"})"
   ]
  },
  {
   "cell_type": "code",
   "execution_count": 40,
   "id": "60591649",
   "metadata": {},
   "outputs": [
    {
     "data": {
      "text/html": [
       "<div>\n",
       "<style scoped>\n",
       "    .dataframe tbody tr th:only-of-type {\n",
       "        vertical-align: middle;\n",
       "    }\n",
       "\n",
       "    .dataframe tbody tr th {\n",
       "        vertical-align: top;\n",
       "    }\n",
       "\n",
       "    .dataframe thead th {\n",
       "        text-align: right;\n",
       "    }\n",
       "</style>\n",
       "<table border=\"1\" class=\"dataframe\">\n",
       "  <thead>\n",
       "    <tr style=\"text-align: right;\">\n",
       "      <th></th>\n",
       "      <th>Date</th>\n",
       "      <th>Holiday</th>\n",
       "      <th>WeekDay</th>\n",
       "      <th>month</th>\n",
       "      <th>day</th>\n",
       "      <th>Year</th>\n",
       "    </tr>\n",
       "  </thead>\n",
       "  <tbody>\n",
       "    <tr>\n",
       "      <th>0</th>\n",
       "      <td>2004-07-04</td>\n",
       "      <td>4th of July</td>\n",
       "      <td>Sunday</td>\n",
       "      <td>7</td>\n",
       "      <td>4</td>\n",
       "      <td>2004</td>\n",
       "    </tr>\n",
       "    <tr>\n",
       "      <th>1</th>\n",
       "      <td>2005-07-04</td>\n",
       "      <td>4th of July</td>\n",
       "      <td>Monday</td>\n",
       "      <td>7</td>\n",
       "      <td>4</td>\n",
       "      <td>2005</td>\n",
       "    </tr>\n",
       "    <tr>\n",
       "      <th>2</th>\n",
       "      <td>2006-07-04</td>\n",
       "      <td>4th of July</td>\n",
       "      <td>Tuesday</td>\n",
       "      <td>7</td>\n",
       "      <td>4</td>\n",
       "      <td>2006</td>\n",
       "    </tr>\n",
       "    <tr>\n",
       "      <th>3</th>\n",
       "      <td>2007-07-04</td>\n",
       "      <td>4th of July</td>\n",
       "      <td>Wednesday</td>\n",
       "      <td>7</td>\n",
       "      <td>4</td>\n",
       "      <td>2007</td>\n",
       "    </tr>\n",
       "    <tr>\n",
       "      <th>4</th>\n",
       "      <td>2008-07-04</td>\n",
       "      <td>4th of July</td>\n",
       "      <td>Friday</td>\n",
       "      <td>7</td>\n",
       "      <td>4</td>\n",
       "      <td>2008</td>\n",
       "    </tr>\n",
       "  </tbody>\n",
       "</table>\n",
       "</div>"
      ],
      "text/plain": [
       "         Date      Holiday    WeekDay  month  day  Year\n",
       "0  2004-07-04  4th of July     Sunday      7    4  2004\n",
       "1  2005-07-04  4th of July     Monday      7    4  2005\n",
       "2  2006-07-04  4th of July    Tuesday      7    4  2006\n",
       "3  2007-07-04  4th of July  Wednesday      7    4  2007\n",
       "4  2008-07-04  4th of July     Friday      7    4  2008"
      ]
     },
     "execution_count": 40,
     "metadata": {},
     "output_type": "execute_result"
    }
   ],
   "source": [
    "US_HOLIDAYS.head()"
   ]
  },
  {
   "cell_type": "code",
   "execution_count": 41,
   "id": "dee43b0d",
   "metadata": {},
   "outputs": [],
   "source": [
    "provided_data_with_holidays = provided_data_expanded_df.copy()"
   ]
  },
  {
   "cell_type": "code",
   "execution_count": 42,
   "id": "06bc9430",
   "metadata": {},
   "outputs": [],
   "source": [
    "for row_1 in provided_data_with_holidays.itertuples():\n",
    "    month = row_1.month\n",
    "    day = row_1.day\n",
    "#     month_day_holiday_match_mask = US_HOLIDAYS[]\n",
    "#     if US_HOLIDAYS.loc[US_HOLIDAYS]"
   ]
  }
 ],
 "metadata": {
  "kernelspec": {
   "display_name": "Python 3 (ipykernel)",
   "language": "python",
   "name": "python3"
  },
  "language_info": {
   "codemirror_mode": {
    "name": "ipython",
    "version": 3
   },
   "file_extension": ".py",
   "mimetype": "text/x-python",
   "name": "python",
   "nbconvert_exporter": "python",
   "pygments_lexer": "ipython3",
   "version": "3.8.15"
  }
 },
 "nbformat": 4,
 "nbformat_minor": 5
}
