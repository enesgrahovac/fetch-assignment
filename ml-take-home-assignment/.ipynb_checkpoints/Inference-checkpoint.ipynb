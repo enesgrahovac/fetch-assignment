{
 "cells": [
  {
   "cell_type": "code",
   "execution_count": 1,
   "id": "e40f851f",
   "metadata": {},
   "outputs": [
    {
     "name": "stderr",
     "output_type": "stream",
     "text": [
      "/opt/conda/lib/python3.10/site-packages/tensorflow_io/python/ops/__init__.py:98: UserWarning: unable to load libtensorflow_io_plugins.so: unable to open file: libtensorflow_io_plugins.so, from paths: ['/opt/conda/lib/python3.10/site-packages/tensorflow_io/python/ops/libtensorflow_io_plugins.so']\n",
      "caused by: [\"[Errno 2] The file to load file system plugin from does not exist.: '/opt/conda/lib/python3.10/site-packages/tensorflow_io/python/ops/libtensorflow_io_plugins.so'\"]\n",
      "  warnings.warn(f\"unable to load libtensorflow_io_plugins.so: {e}\")\n",
      "/opt/conda/lib/python3.10/site-packages/tensorflow_io/python/ops/__init__.py:104: UserWarning: file system plugins are not loaded: unable to open file: libtensorflow_io.so, from paths: ['/opt/conda/lib/python3.10/site-packages/tensorflow_io/python/ops/libtensorflow_io.so']\n",
      "caused by: ['/opt/conda/lib/python3.10/site-packages/tensorflow_io/python/ops/libtensorflow_io.so: cannot open shared object file: No such file or directory']\n",
      "  warnings.warn(f\"file system plugins are not loaded: {e}\")\n"
     ]
    }
   ],
   "source": [
    "from ipyfilechooser import FileChooser\n",
    "\n",
    "import keras_tuner as kt\n",
    "import keras.backend as K\n",
    "\n",
    "import numpy as np\n",
    "import os\n",
    "import pandas as pd\n",
    "from pickle import load\n",
    "\n",
    "import tensorflow as tf\n",
    "from tensorflow import keras\n",
    "from tensorflow.keras import layers\n",
    "\n",
    "from constants import * \n",
    "from utilities import *"
   ]
  },
  {
   "cell_type": "markdown",
   "id": "55b1c49c",
   "metadata": {},
   "source": [
    "# Please select the file that you'd like the model to predict against\n",
    "### The CSV should have 2 columns: \"# Date\" and \"Receipt_Count\""
   ]
  },
  {
   "cell_type": "code",
   "execution_count": 2,
   "id": "da0c48a4",
   "metadata": {},
   "outputs": [
    {
     "data": {
      "application/vnd.jupyter.widget-view+json": {
       "model_id": "c20a5995c72f4815862835a54438d5b8",
       "version_major": 2,
       "version_minor": 0
      },
      "text/plain": [
       "FileChooser(path='/home/jovyan/work/ml-take-home-assignment', filename='', title='', show_hidden=False, select…"
      ]
     },
     "metadata": {},
     "output_type": "display_data"
    }
   ],
   "source": [
    "# Create and display a FileChooser widget\n",
    "fc = FileChooser('')\n",
    "display(fc)"
   ]
  },
  {
   "cell_type": "code",
   "execution_count": 3,
   "id": "461bd3c0",
   "metadata": {},
   "outputs": [],
   "source": [
    "inference_df = pd.read_csv(fc.selected)"
   ]
  },
  {
   "cell_type": "code",
   "execution_count": 14,
   "id": "162fcc52",
   "metadata": {},
   "outputs": [
    {
     "data": {
      "text/html": [
       "<div>\n",
       "<style scoped>\n",
       "    .dataframe tbody tr th:only-of-type {\n",
       "        vertical-align: middle;\n",
       "    }\n",
       "\n",
       "    .dataframe tbody tr th {\n",
       "        vertical-align: top;\n",
       "    }\n",
       "\n",
       "    .dataframe thead th {\n",
       "        text-align: right;\n",
       "    }\n",
       "</style>\n",
       "<table border=\"1\" class=\"dataframe\">\n",
       "  <thead>\n",
       "    <tr style=\"text-align: right;\">\n",
       "      <th></th>\n",
       "      <th># Date</th>\n",
       "      <th>Receipt_Count</th>\n",
       "      <th>timestamp</th>\n",
       "    </tr>\n",
       "  </thead>\n",
       "  <tbody>\n",
       "    <tr>\n",
       "      <th>172</th>\n",
       "      <td>2021-06-22</td>\n",
       "      <td>8590990</td>\n",
       "      <td>1.624320e+09</td>\n",
       "    </tr>\n",
       "    <tr>\n",
       "      <th>31</th>\n",
       "      <td>2021-02-01</td>\n",
       "      <td>7714465</td>\n",
       "      <td>1.612138e+09</td>\n",
       "    </tr>\n",
       "    <tr>\n",
       "      <th>302</th>\n",
       "      <td>2021-10-30</td>\n",
       "      <td>9879362</td>\n",
       "      <td>1.635552e+09</td>\n",
       "    </tr>\n",
       "    <tr>\n",
       "      <th>355</th>\n",
       "      <td>2021-12-22</td>\n",
       "      <td>10124238</td>\n",
       "      <td>1.640131e+09</td>\n",
       "    </tr>\n",
       "    <tr>\n",
       "      <th>92</th>\n",
       "      <td>2021-04-03</td>\n",
       "      <td>8401675</td>\n",
       "      <td>1.617408e+09</td>\n",
       "    </tr>\n",
       "  </tbody>\n",
       "</table>\n",
       "</div>"
      ],
      "text/plain": [
       "        # Date  Receipt_Count     timestamp\n",
       "172 2021-06-22        8590990  1.624320e+09\n",
       "31  2021-02-01        7714465  1.612138e+09\n",
       "302 2021-10-30        9879362  1.635552e+09\n",
       "355 2021-12-22       10124238  1.640131e+09\n",
       "92  2021-04-03        8401675  1.617408e+09"
      ]
     },
     "execution_count": 14,
     "metadata": {},
     "output_type": "execute_result"
    }
   ],
   "source": [
    "inference_df = prepare_data(inference_df)\n",
    "inference_df.sample(5)"
   ]
  },
  {
   "cell_type": "markdown",
   "id": "6b6d89a6",
   "metadata": {},
   "source": [
    "# Load in Neural Network"
   ]
  },
  {
   "cell_type": "code",
   "execution_count": 15,
   "id": "123bb95f",
   "metadata": {},
   "outputs": [],
   "source": [
    "model = keras.models.load_model(SAVED_MODELS_PATH+\"/no_hidden_layers/no_hidden_layers.h5\")"
   ]
  },
  {
   "cell_type": "markdown",
   "id": "98474856",
   "metadata": {},
   "source": [
    "# Load in Scaler"
   ]
  },
  {
   "cell_type": "code",
   "execution_count": 16,
   "id": "d49381f5",
   "metadata": {},
   "outputs": [],
   "source": [
    "with open(SAVED_MODELS_PATH+\"/no_hidden_layers/scaler.pkl\",\"rb\") as file:  \n",
    "    scaler = load(file)"
   ]
  },
  {
   "cell_type": "markdown",
   "id": "3057ea90",
   "metadata": {},
   "source": [
    "# Prepare Data for Inference"
   ]
  },
  {
   "cell_type": "code",
   "execution_count": 17,
   "id": "0869b76c",
   "metadata": {},
   "outputs": [
    {
     "name": "stdout",
     "output_type": "stream",
     "text": [
      "12/12 [==============================] - 0s 828us/step\n"
     ]
    }
   ],
   "source": [
    "x = np.array(inference_df[\"timestamp\"])\n",
    "y_predictions = scaler.inverse_transform(model.predict(x).reshape(-1, 1))"
   ]
  },
  {
   "cell_type": "markdown",
   "id": "8580eb6f",
   "metadata": {},
   "source": [
    "# Visualization of the Predictions vs. Actual data"
   ]
  },
  {
   "cell_type": "code",
   "execution_count": 18,
   "id": "4fd519d2",
   "metadata": {},
   "outputs": [
    {
     "data": {
      "text/plain": [
       "<module 'matplotlib.pyplot' from '/opt/conda/lib/python3.10/site-packages/matplotlib/pyplot.py'>"
      ]
     },
     "execution_count": 18,
     "metadata": {},
     "output_type": "execute_result"
    },
    {
     "data": {
      "image/png": "[encoded data removed]",
      "text/plain": [
       "<Figure size 640x480 with 1 Axes>"
      ]
     },
     "metadata": {},
     "output_type": "display_data"
    }
   ],
   "source": [
    "plot_receipt_count_predictions(inference_df, x,y_predictions)"
   ]
  },
  {
   "cell_type": "markdown",
   "id": "2e4609b6",
   "metadata": {},
   "source": [
    "# Evaluate the Model's Performance"
   ]
  },
  {
   "cell_type": "code",
   "execution_count": 19,
   "id": "ce3e8529",
   "metadata": {},
   "outputs": [
    {
     "name": "stdout",
     "output_type": "stream",
     "text": [
      "Model's Results:\n",
      "\n",
      "Metric Name: Mean Squared Error             | Value: 47291615869.4911\n",
      "Metric Name: Root Mean Squared Error        | Value: 217466.3557185136\n",
      "Metric Name: R-squared                      | Value: 0.9224552769558348\n",
      "Metric Name: Mean Absolute Error            | Value: 170919.94657534247\n"
     ]
    }
   ],
   "source": [
    "evaluation_results = run_evaluation_calculations(inference_df[\"Receipt_Count\"],y_predictions)\n",
    "\n",
    "print(\"Model's Results:\\n\")\n",
    "print_eval_results(evaluation_results)"
   ]
  },
  {
   "cell_type": "code",
   "execution_count": null,
   "id": "3d524820",
   "metadata": {},
   "outputs": [],
   "source": []
  }
 ],
 "metadata": {
  "kernelspec": {
   "display_name": "Python 3 (ipykernel)",
   "language": "python",
   "name": "python3"
  },
  "language_info": {
   "codemirror_mode": {
    "name": "ipython",
    "version": 3
   },
   "file_extension": ".py",
   "mimetype": "text/x-python",
   "name": "python",
   "nbconvert_exporter": "python",
   "pygments_lexer": "ipython3",
   "version": "3.10.8"
  }
 },
 "nbformat": 4,
 "nbformat_minor": 5
}
